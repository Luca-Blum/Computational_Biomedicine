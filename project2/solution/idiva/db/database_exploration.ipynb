{
 "cells": [
  {
   "cell_type": "code",
   "execution_count": 1,
   "metadata": {
    "collapsed": true
   },
   "outputs": [],
   "source": [
    "from idiva.db.ncbi_scraper import get_functional_consequence_from_SNP\n",
    "from pathlib import Path\n",
    "from idiva.io import ReadVCF\n",
    "import os\n",
    "import pandas as pd\n",
    "\n",
    "BASE = (Path(os.path.abspath(\"database_exploration.ipynb\")).parent.parent.parent) / \"tests/data_for_tests/large_head\"\n",
    "\n",
    "PATHS = {\n",
    "    'ctrl': BASE / \"control.vcf\",\n",
    "    'case': BASE / \"case_processed.vcf\",\n",
    "}"
   ]
  },
  {
   "cell_type": "code",
   "execution_count": 2,
   "outputs": [],
   "source": [
    "functional_consequence_set = {'non_coding_transcript_variant,intron_variant,genic_downstream_transcript_variant'}"
   ],
   "metadata": {
    "collapsed": false,
    "pycharm": {
     "name": "#%%\n"
    }
   }
  },
  {
   "cell_type": "code",
   "execution_count": 3,
   "outputs": [
    {
     "name": "stderr",
     "output_type": "stream",
     "text": [
      "/Users/Hendrik/Documents/master3/Computaitonal_Biomedicine/Team03/project2/solution/idiva/db/ncbi_scraper.py:47: GuessedAtParserWarning: No parser was explicitly specified, so I'm using the best available HTML parser for this system (\"lxml\"). This usually isn't a problem, but if you run this code on another system, or in a different virtual environment, it may use a different parser and behave differently.\n",
      "\n",
      "The code that caused this warning is on line 47 of the file /Users/Hendrik/Documents/master3/Computaitonal_Biomedicine/Team03/project2/solution/idiva/db/ncbi_scraper.py. To get rid of this warning, pass the additional argument 'features=\"lxml\"' to the BeautifulSoup constructor.\n",
      "\n",
      "  soup = BeautifulSoup(page.content)\n"
     ]
    }
   ],
   "source": [
    "with open(PATHS['ctrl'], mode='r') as fd:\n",
    "    for elem in ReadVCF(fd):\n",
    "        info = get_functional_consequence_from_SNP(elem.id)\n",
    "        functional_consequence_set.add(info)"
   ],
   "metadata": {
    "collapsed": false,
    "pycharm": {
     "name": "#%%\n"
    }
   }
  },
  {
   "cell_type": "code",
   "execution_count": 5,
   "outputs": [],
   "source": [
    "with open(PATHS['case'], mode='r') as fd:\n",
    "    for elem in ReadVCF(fd):\n",
    "        info = get_functional_consequence_from_SNP(elem.id)\n",
    "        functional_consequence_set.add(info)"
   ],
   "metadata": {
    "collapsed": false,
    "pycharm": {
     "name": "#%%\n"
    }
   }
  },
  {
   "cell_type": "code",
   "execution_count": 6,
   "outputs": [
    {
     "name": "stdout",
     "output_type": "stream",
     "text": [
      "{'genic_downstream_transcript_variant,intron_variant,downstream_transcript_variant\\n', 'G=0.0006/3\\n(1000Genomes)', 'intron_variant,downstream_transcript_variant,genic_downstream_transcript_variant\\n', 'intron_variant,genic_downstream_transcript_variant\\n', 'genic_downstream_transcript_variant,intron_variant,non_coding_transcript_variant\\n', 'non_coding_transcript_variant,intron_variant,genic_downstream_transcript_variant\\n', 'non_coding_transcript_variant,intron_variant,genic_downstream_transcript_variant', 'downstream_transcript_variant,intron_variant,genic_downstream_transcript_variant\\n', 'intron_variant,non_coding_transcript_variant,genic_downstream_transcript_variant\\n', 'genic_downstream_transcript_variant,intron_variant\\n', 'genic_downstream_transcript_variant,downstream_transcript_variant,intron_variant\\n'}\n"
     ]
    }
   ],
   "source": [
    "print(functional_consequence_set)"
   ],
   "metadata": {
    "collapsed": false,
    "pycharm": {
     "name": "#%%\n"
    }
   }
  },
  {
   "cell_type": "code",
   "execution_count": 9,
   "outputs": [],
   "source": [
    "import pyspark\n",
    "import findspark\n",
    "import os\n",
    "findspark.init()\n",
    "\n"
   ],
   "metadata": {
    "collapsed": false,
    "pycharm": {
     "name": "#%%\n"
    }
   }
  },
  {
   "cell_type": "code",
   "execution_count": 10,
   "outputs": [],
   "source": [
    "from pyspark import SparkContext\n",
    "sc = SparkContext(\"local\", \"MySparkApp\")"
   ],
   "metadata": {
    "collapsed": false,
    "pycharm": {
     "name": "#%%\n"
    }
   }
  },
  {
   "cell_type": "code",
   "execution_count": 11,
   "outputs": [],
   "source": [
    "from pyspark.sql import SparkSession\n",
    "\n",
    "spark = SparkSession.builder.getOrCreate()"
   ],
   "metadata": {
    "collapsed": false,
    "pycharm": {
     "name": "#%%\n"
    }
   }
  },
  {
   "cell_type": "code",
   "execution_count": 12,
   "outputs": [],
   "source": [
    "clinvar_csv_gzip_path = Path(os.path.abspath(\"database_exploration.ipynb\")).parent.parent.parent/ 'data/clinvar.gzip'\n",
    "clinvar_csv_path = Path(os.path.abspath(\"database_exploration.ipynb\")).parent.parent.parent/ 'data/clinvar.csv'"
   ],
   "metadata": {
    "collapsed": false,
    "pycharm": {
     "name": "#%%\n"
    }
   }
  },
  {
   "cell_type": "code",
   "execution_count": 13,
   "outputs": [],
   "source": [
    "pdf = pd.read_csv(clinvar_csv_gzip_path, compression='gzip')\n",
    "pdf.to_csv(clinvar_csv_path, index = False)"
   ],
   "metadata": {
    "collapsed": false,
    "pycharm": {
     "name": "#%%\n"
    }
   }
  },
  {
   "cell_type": "code",
   "execution_count": 14,
   "outputs": [],
   "source": [
    "df=spark.read.options(header='true').csv(str(clinvar_csv_path))"
   ],
   "metadata": {
    "collapsed": false,
    "pycharm": {
     "name": "#%%\n"
    }
   }
  },
  {
   "cell_type": "code",
   "execution_count": 15,
   "outputs": [
    {
     "name": "stdout",
     "output_type": "stream",
     "text": [
      "+--------+---------------+------------+--------------------+--------------------+--------------------+--------------------+----------+-------------+--------------------+------+---+-----+------+------+------+--------+----+---+-------+--------------------+--------------------+------+--------+-----+----------+\n",
      "|ALLELEID|       CLNDISDB|       CLNDN|             CLNHGVS|          CLNREVSTAT|              CLNSIG|               CLNVC|   CLNVCSO|     GENEINFO|                  MC|ORIGIN|alt|chrom|filter|format|    id|     pos|qual|ref|samples|              AF_ESP|             AF_EXAC|AF_TGP|      RS|CLNVI|CLNSIGCONF|\n",
      "+--------+---------------+------------+--------------------+--------------------+--------------------+--------------------+----------+-------------+--------------------+------+---+-----+------+------+------+--------+----+---+-------+--------------------+--------------------+------+--------+-----+----------+\n",
      "|  824438|MedGen:CN517202|not_provided|NC_000001.10:g.86...|criteria_provided...|Uncertain_signifi...|single_nucleotide...|SO:0001483|SAMD11:148398|SO:0001583|missen...|   1.0|  A|    1|     .|  null|846933|865568.0|null|  G|   null|                null|                null|  null|    null| null|      null|\n",
      "|  959431|MedGen:CN517202|not_provided|NC_000001.10:g.86...|criteria_provided...|Uncertain_signifi...|single_nucleotide...|SO:0001483|SAMD11:148398|SO:0001583|missen...|   1.0|  T|    1|     .|  null|972363|865583.0|null|  C|   null|                null|                null|  null|    null| null|      null|\n",
      "|  707587|MedGen:CN517202|not_provided|NC_000001.10:g.86...|criteria_provided...|       Likely_benign|single_nucleotide...|SO:0001483|SAMD11:148398|SO:0001583|missen...|   1.0|  A|    1|     .|  null|789256|865628.0|null|  G|   null|0.003470000000000...|0.006220000000000001|0.0028|41285790| null|      null|\n",
      "|  959432|MedGen:CN517202|not_provided|NC_000001.10:g.86...|criteria_provided...|Uncertain_signifi...|single_nucleotide...|SO:0001483|SAMD11:148398|SO:0001583|missen...|   1.0|  G|    1|     .|  null|969662|865655.0|null|  T|   null|                null|                null|  null|    null| null|      null|\n",
      "|  824439|MedGen:CN517202|not_provided|NC_000001.10:g.86...|criteria_provided...|Uncertain_signifi...|single_nucleotide...|SO:0001483|SAMD11:148398|SO:0001583|missen...|   1.0|  A|    1|     .|  null|843786|865716.0|null|  G|   null|                null|                null|  null|    null| null|      null|\n",
      "|  951973|MedGen:CN517202|not_provided|NC_000001.10:g.86...|criteria_provided...|Uncertain_signifi...|single_nucleotide...|SO:0001483|SAMD11:148398|SO:0001819|synony...|   1.0|  G|    1|     .|  null|956114|866419.0|null|  A|   null|                null|                null|  null|    null| null|      null|\n",
      "|  939755|MedGen:CN517202|not_provided|NC_000001.10:g.86...|criteria_provided...|Uncertain_signifi...|single_nucleotide...|SO:0001483|SAMD11:148398|SO:0001583|missen...|   1.0|  T|    1|     .|  null|943630|866429.0|null|  C|   null|                null|                null|  null|    null| null|      null|\n",
      "|  824440|MedGen:CN517202|not_provided|NC_000001.10:g.86...|criteria_provided...|Uncertain_signifi...|single_nucleotide...|SO:0001483|SAMD11:148398|SO:0001583|missen...|   1.0|  G|    1|     .|  null|852351|866430.0|null|  A|   null|                null|                null|  null|    null| null|      null|\n",
      "|  951974|MedGen:CN517202|not_provided|NC_000001.10:g.87...|criteria_provided...|Uncertain_signifi...|single_nucleotide...|SO:0001483|SAMD11:148398|SO:0001583|missen...|   1.0|  G|    1|     .|  null|962835|871213.0|null|  C|   null|                null|                null|  null|    null| null|      null|\n",
      "|  824441|MedGen:CN517202|not_provided|NC_000001.10:g.87...|criteria_provided...|Uncertain_signifi...|single_nucleotide...|SO:0001483|SAMD11:148398|SO:0001583|missen...|   1.0|  G|    1|     .|  null|862561|871227.0|null|  C|   null|                null|                null|  null|    null| null|      null|\n",
      "+--------+---------------+------------+--------------------+--------------------+--------------------+--------------------+----------+-------------+--------------------+------+---+-----+------+------+------+--------+----+---+-------+--------------------+--------------------+------+--------+-----+----------+\n",
      "only showing top 10 rows\n",
      "\n"
     ]
    }
   ],
   "source": [
    "df.show(10)\n",
    "\n",
    "\n",
    "\n",
    "\n",
    "\n",
    "\n"
   ],
   "metadata": {
    "collapsed": false,
    "pycharm": {
     "name": "#%%\n"
    }
   }
  }
 ],
 "metadata": {
  "kernelspec": {
   "display_name": "Python 3",
   "language": "python",
   "name": "python3"
  },
  "language_info": {
   "codemirror_mode": {
    "name": "ipython",
    "version": 2
   },
   "file_extension": ".py",
   "mimetype": "text/x-python",
   "name": "python",
   "nbconvert_exporter": "python",
   "pygments_lexer": "ipython2",
   "version": "2.7.6"
  }
 },
 "nbformat": 4,
 "nbformat_minor": 0
}