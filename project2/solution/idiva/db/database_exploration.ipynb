{
 "cells": [
  {
   "cell_type": "code",
   "execution_count": 10,
   "metadata": {
    "collapsed": true
   },
   "outputs": [],
   "source": [
    "from idiva.db.ncbi_scraper import get_functional_consequence_from_SNP\n",
    "from pathlib import Path\n",
    "from idiva.io import ReadVCF\n",
    "import os\n",
    "import pandas as pd\n",
    "\n",
    "BASE = (Path(os.path.abspath(\"database_exploration.ipynb\")).parent.parent.parent) / \"tests/data_for_tests/large_head\"\n",
    "\n",
    "PATHS = {\n",
    "    'ctrl': BASE / \"control.vcf\",\n",
    "    'case': BASE / \"case_processed.vcf\",\n",
    "}"
   ]
  },
  {
   "cell_type": "code",
   "execution_count": 13,
   "outputs": [],
   "source": [
    "functional_consequence_set = {'non_coding_transcript_variant,intron_variant,genic_downstream_transcript_variant'}\n",
    "\n",
    "functional_consequence_df = pd.DataFrame()"
   ],
   "metadata": {
    "collapsed": false,
    "pycharm": {
     "name": "#%%\n"
    }
   }
  },
  {
   "cell_type": "code",
   "execution_count": 14,
   "outputs": [
    {
     "name": "stderr",
     "output_type": "stream",
     "text": [
      "/Users/Hendrik/Documents/master3/Computaitonal_Biomedicine/Team03/project2/solution/idiva/db/ncbi_scraper.py:47: GuessedAtParserWarning: No parser was explicitly specified, so I'm using the best available HTML parser for this system (\"lxml\"). This usually isn't a problem, but if you run this code on another system, or in a different virtual environment, it may use a different parser and behave differently.\n",
      "\n",
      "The code that caused this warning is on line 47 of the file /Users/Hendrik/Documents/master3/Computaitonal_Biomedicine/Team03/project2/solution/idiva/db/ncbi_scraper.py. To get rid of this warning, pass the additional argument 'features=\"lxml\"' to the BeautifulSoup constructor.\n",
      "\n",
      "  soup = BeautifulSoup(page.content)\n"
     ]
    }
   ],
   "source": [
    "with open(PATHS['ctrl'], mode='r') as fd:\n",
    "    for elem in ReadVCF(fd):\n",
    "        info = get_functional_consequence_from_SNP(elem.id)\n",
    "        functional_consequence_set.add(info)\n",
    "        functional_consequence_df = functional_consequence_df.append({'rs_ID':elem.id,'functional_consequence': info}, ignore_index=True)"
   ],
   "metadata": {
    "collapsed": false,
    "pycharm": {
     "name": "#%%\n"
    }
   }
  },
  {
   "cell_type": "code",
   "execution_count": 15,
   "outputs": [],
   "source": [
    "with open(PATHS['case'], mode='r') as fd:\n",
    "    for elem in ReadVCF(fd):\n",
    "        info = get_functional_consequence_from_SNP(elem.id)\n",
    "        functional_consequence_set.add(info)\n",
    "        functional_consequence_df = functional_consequence_df.append({'rs_ID':elem.id,'functional_consequence': info}, ignore_index=True)"
   ],
   "metadata": {
    "collapsed": false,
    "pycharm": {
     "name": "#%%\n"
    }
   }
  },
  {
   "cell_type": "code",
   "execution_count": 17,
   "outputs": [
    {
     "data": {
      "text/plain": "                                functional_consequence        rs_ID\n0    genic_downstream_transcript_variant,intron_var...  rs556541063\n1    genic_downstream_transcript_variant,intron_var...  rs145615430\n2    intron_variant,genic_downstream_transcript_var...  rs148170422\n3    intron_variant,genic_downstream_transcript_var...  rs183779916\n4    genic_downstream_transcript_variant,intron_var...  rs562410061\n..                                                 ...          ...\n195  non_coding_transcript_variant,intron_variant,g...  rs532922553\n196  intron_variant,non_coding_transcript_variant,g...   rs80215721\n197  intron_variant,non_coding_transcript_variant,g...  rs191439637\n198  intron_variant,non_coding_transcript_variant,g...  rs149757548\n199  genic_downstream_transcript_variant,intron_var...  rs555472791\n\n[200 rows x 2 columns]",
      "text/html": "<div>\n<style scoped>\n    .dataframe tbody tr th:only-of-type {\n        vertical-align: middle;\n    }\n\n    .dataframe tbody tr th {\n        vertical-align: top;\n    }\n\n    .dataframe thead th {\n        text-align: right;\n    }\n</style>\n<table border=\"1\" class=\"dataframe\">\n  <thead>\n    <tr style=\"text-align: right;\">\n      <th></th>\n      <th>functional_consequence</th>\n      <th>rs_ID</th>\n    </tr>\n  </thead>\n  <tbody>\n    <tr>\n      <th>0</th>\n      <td>genic_downstream_transcript_variant,intron_var...</td>\n      <td>rs556541063</td>\n    </tr>\n    <tr>\n      <th>1</th>\n      <td>genic_downstream_transcript_variant,intron_var...</td>\n      <td>rs145615430</td>\n    </tr>\n    <tr>\n      <th>2</th>\n      <td>intron_variant,genic_downstream_transcript_var...</td>\n      <td>rs148170422</td>\n    </tr>\n    <tr>\n      <th>3</th>\n      <td>intron_variant,genic_downstream_transcript_var...</td>\n      <td>rs183779916</td>\n    </tr>\n    <tr>\n      <th>4</th>\n      <td>genic_downstream_transcript_variant,intron_var...</td>\n      <td>rs562410061</td>\n    </tr>\n    <tr>\n      <th>...</th>\n      <td>...</td>\n      <td>...</td>\n    </tr>\n    <tr>\n      <th>195</th>\n      <td>non_coding_transcript_variant,intron_variant,g...</td>\n      <td>rs532922553</td>\n    </tr>\n    <tr>\n      <th>196</th>\n      <td>intron_variant,non_coding_transcript_variant,g...</td>\n      <td>rs80215721</td>\n    </tr>\n    <tr>\n      <th>197</th>\n      <td>intron_variant,non_coding_transcript_variant,g...</td>\n      <td>rs191439637</td>\n    </tr>\n    <tr>\n      <th>198</th>\n      <td>intron_variant,non_coding_transcript_variant,g...</td>\n      <td>rs149757548</td>\n    </tr>\n    <tr>\n      <th>199</th>\n      <td>genic_downstream_transcript_variant,intron_var...</td>\n      <td>rs555472791</td>\n    </tr>\n  </tbody>\n</table>\n<p>200 rows × 2 columns</p>\n</div>"
     },
     "execution_count": 17,
     "metadata": {},
     "output_type": "execute_result"
    }
   ],
   "source": [
    "functional_consequence_df"
   ],
   "metadata": {
    "collapsed": false,
    "pycharm": {
     "name": "#%%\n"
    }
   }
  },
  {
   "cell_type": "code",
   "execution_count": 6,
   "outputs": [
    {
     "name": "stdout",
     "output_type": "stream",
     "text": [
      "{'genic_downstream_transcript_variant,intron_variant,downstream_transcript_variant\\n', 'G=0.0006/3\\n(1000Genomes)', 'intron_variant,downstream_transcript_variant,genic_downstream_transcript_variant\\n', 'intron_variant,genic_downstream_transcript_variant\\n', 'genic_downstream_transcript_variant,intron_variant,non_coding_transcript_variant\\n', 'non_coding_transcript_variant,intron_variant,genic_downstream_transcript_variant\\n', 'non_coding_transcript_variant,intron_variant,genic_downstream_transcript_variant', 'downstream_transcript_variant,intron_variant,genic_downstream_transcript_variant\\n', 'intron_variant,non_coding_transcript_variant,genic_downstream_transcript_variant\\n', 'genic_downstream_transcript_variant,intron_variant\\n', 'genic_downstream_transcript_variant,downstream_transcript_variant,intron_variant\\n'}\n"
     ]
    }
   ],
   "source": [
    "print(functional_consequence_set)"
   ],
   "metadata": {
    "collapsed": false,
    "pycharm": {
     "name": "#%%\n"
    }
   }
  },
  {
   "cell_type": "code",
   "execution_count": 2,
   "outputs": [],
   "source": [
    "import findspark\n",
    "import os\n",
    "findspark.init()\n",
    "\n"
   ],
   "metadata": {
    "collapsed": false,
    "pycharm": {
     "name": "#%%\n"
    }
   }
  },
  {
   "cell_type": "code",
   "execution_count": 3,
   "outputs": [],
   "source": [
    "from pyspark import SparkContext\n",
    "sc = SparkContext(\"local\", \"MySparkApp\")"
   ],
   "metadata": {
    "collapsed": false,
    "pycharm": {
     "name": "#%%\n"
    }
   }
  },
  {
   "cell_type": "code",
   "execution_count": 4,
   "outputs": [],
   "source": [
    "from pyspark.sql import SparkSession\n",
    "\n",
    "spark = SparkSession.builder.getOrCreate()"
   ],
   "metadata": {
    "collapsed": false,
    "pycharm": {
     "name": "#%%\n"
    }
   }
  },
  {
   "cell_type": "code",
   "execution_count": 5,
   "outputs": [],
   "source": [
    "clinvar_csv_gzip_path = Path(os.path.abspath(\"database_exploration.ipynb\")).parent.parent.parent/ 'data/clinvar.gzip'\n",
    "clinvar_csv_path = Path(os.path.abspath(\"database_exploration.ipynb\")).parent.parent.parent/ 'data/clinvar.csv'"
   ],
   "metadata": {
    "collapsed": false,
    "pycharm": {
     "name": "#%%\n"
    }
   }
  },
  {
   "cell_type": "code",
   "execution_count": 6,
   "outputs": [
    {
     "name": "stderr",
     "output_type": "stream",
     "text": [
      "/Users/Hendrik/opt/anaconda3/envs/cbm_project1_env/lib/python3.7/site-packages/IPython/core/interactiveshell.py:3147: DtypeWarning: Columns (12,23,29) have mixed types.Specify dtype option on import or set low_memory=False.\n",
      "  interactivity=interactivity, compiler=compiler, result=result)\n"
     ]
    }
   ],
   "source": [
    "pdf = pd.read_csv(clinvar_csv_gzip_path, compression='gzip')\n",
    "pdf.to_csv(clinvar_csv_path, index = False)"
   ],
   "metadata": {
    "collapsed": false,
    "pycharm": {
     "name": "#%%\n"
    }
   }
  },
  {
   "cell_type": "code",
   "execution_count": 7,
   "outputs": [
    {
     "name": "stdout",
     "output_type": "stream",
     "text": [
      "775005\n"
     ]
    }
   ],
   "source": [
    "print(len(pdf))"
   ],
   "metadata": {
    "collapsed": false,
    "pycharm": {
     "name": "#%%\n"
    }
   }
  },
  {
   "cell_type": "code",
   "execution_count": 8,
   "outputs": [],
   "source": [
    "df=spark.read.options(header='true').csv(str(clinvar_csv_path))"
   ],
   "metadata": {
    "collapsed": false,
    "pycharm": {
     "name": "#%%\n"
    }
   }
  },
  {
   "cell_type": "code",
   "execution_count": 9,
   "outputs": [
    {
     "name": "stdout",
     "output_type": "stream",
     "text": [
      "+--------+---------------+------------+--------------------+--------------------+--------------------+--------------------+----------+-------------+--------------------+------+---+-----+------+------+------+--------+----+---+-------+--------------------+--------------------+------+--------+-----+----------+------------+---------+----------+-------+\n",
      "|ALLELEID|       CLNDISDB|       CLNDN|             CLNHGVS|          CLNREVSTAT|              CLNSIG|               CLNVC|   CLNVCSO|     GENEINFO|                  MC|ORIGIN|alt|chrom|filter|format|    id|     pos|qual|ref|samples|              AF_ESP|             AF_EXAC|AF_TGP|      RS|CLNVI|CLNSIGCONF|CLNDISDBINCL|CLNDNINCL|CLNSIGINCL|DBVARID|\n",
      "+--------+---------------+------------+--------------------+--------------------+--------------------+--------------------+----------+-------------+--------------------+------+---+-----+------+------+------+--------+----+---+-------+--------------------+--------------------+------+--------+-----+----------+------------+---------+----------+-------+\n",
      "|  824438|MedGen:CN517202|not_provided|NC_000001.10:g.86...|criteria_provided...|Uncertain_signifi...|single_nucleotide...|SO:0001483|SAMD11:148398|SO:0001583|missen...|   1.0|  A|    1|     .|  null|846933|865568.0|null|  G|   null|                null|                null|  null|    null| null|      null|        null|     null|      null|   null|\n",
      "|  959431|MedGen:CN517202|not_provided|NC_000001.10:g.86...|criteria_provided...|Uncertain_signifi...|single_nucleotide...|SO:0001483|SAMD11:148398|SO:0001583|missen...|   1.0|  T|    1|     .|  null|972363|865583.0|null|  C|   null|                null|                null|  null|    null| null|      null|        null|     null|      null|   null|\n",
      "|  707587|MedGen:CN517202|not_provided|NC_000001.10:g.86...|criteria_provided...|       Likely_benign|single_nucleotide...|SO:0001483|SAMD11:148398|SO:0001583|missen...|   1.0|  A|    1|     .|  null|789256|865628.0|null|  G|   null|0.003470000000000...|0.006220000000000001|0.0028|41285790| null|      null|        null|     null|      null|   null|\n",
      "|  959432|MedGen:CN517202|not_provided|NC_000001.10:g.86...|criteria_provided...|Uncertain_signifi...|single_nucleotide...|SO:0001483|SAMD11:148398|SO:0001583|missen...|   1.0|  G|    1|     .|  null|969662|865655.0|null|  T|   null|                null|                null|  null|    null| null|      null|        null|     null|      null|   null|\n",
      "|  824439|MedGen:CN517202|not_provided|NC_000001.10:g.86...|criteria_provided...|Uncertain_signifi...|single_nucleotide...|SO:0001483|SAMD11:148398|SO:0001583|missen...|   1.0|  A|    1|     .|  null|843786|865716.0|null|  G|   null|                null|                null|  null|    null| null|      null|        null|     null|      null|   null|\n",
      "|  951973|MedGen:CN517202|not_provided|NC_000001.10:g.86...|criteria_provided...|Uncertain_signifi...|single_nucleotide...|SO:0001483|SAMD11:148398|SO:0001819|synony...|   1.0|  G|    1|     .|  null|956114|866419.0|null|  A|   null|                null|                null|  null|    null| null|      null|        null|     null|      null|   null|\n",
      "|  939755|MedGen:CN517202|not_provided|NC_000001.10:g.86...|criteria_provided...|Uncertain_signifi...|single_nucleotide...|SO:0001483|SAMD11:148398|SO:0001583|missen...|   1.0|  T|    1|     .|  null|943630|866429.0|null|  C|   null|                null|                null|  null|    null| null|      null|        null|     null|      null|   null|\n",
      "|  824440|MedGen:CN517202|not_provided|NC_000001.10:g.86...|criteria_provided...|Uncertain_signifi...|single_nucleotide...|SO:0001483|SAMD11:148398|SO:0001583|missen...|   1.0|  G|    1|     .|  null|852351|866430.0|null|  A|   null|                null|                null|  null|    null| null|      null|        null|     null|      null|   null|\n",
      "|  951974|MedGen:CN517202|not_provided|NC_000001.10:g.87...|criteria_provided...|Uncertain_signifi...|single_nucleotide...|SO:0001483|SAMD11:148398|SO:0001583|missen...|   1.0|  G|    1|     .|  null|962835|871213.0|null|  C|   null|                null|                null|  null|    null| null|      null|        null|     null|      null|   null|\n",
      "|  824441|MedGen:CN517202|not_provided|NC_000001.10:g.87...|criteria_provided...|Uncertain_signifi...|single_nucleotide...|SO:0001483|SAMD11:148398|SO:0001583|missen...|   1.0|  G|    1|     .|  null|862561|871227.0|null|  C|   null|                null|                null|  null|    null| null|      null|        null|     null|      null|   null|\n",
      "+--------+---------------+------------+--------------------+--------------------+--------------------+--------------------+----------+-------------+--------------------+------+---+-----+------+------+------+--------+----+---+-------+--------------------+--------------------+------+--------+-----+----------+------------+---------+----------+-------+\n",
      "only showing top 10 rows\n",
      "\n"
     ]
    }
   ],
   "source": [
    "df.show(10)\n",
    "\n",
    "\n",
    "\n",
    "\n",
    "\n"
   ],
   "metadata": {
    "collapsed": false,
    "pycharm": {
     "name": "#%%\n"
    }
   }
  },
  {
   "cell_type": "code",
   "execution_count": null,
   "outputs": [],
   "source": [],
   "metadata": {
    "collapsed": false,
    "pycharm": {
     "name": "#%%\n"
    }
   }
  }
 ],
 "metadata": {
  "kernelspec": {
   "display_name": "Python 3",
   "language": "python",
   "name": "python3"
  },
  "language_info": {
   "codemirror_mode": {
    "name": "ipython",
    "version": 2
   },
   "file_extension": ".py",
   "mimetype": "text/x-python",
   "name": "python",
   "nbconvert_exporter": "python",
   "pygments_lexer": "ipython2",
   "version": "2.7.6"
  }
 },
 "nbformat": 4,
 "nbformat_minor": 0
}