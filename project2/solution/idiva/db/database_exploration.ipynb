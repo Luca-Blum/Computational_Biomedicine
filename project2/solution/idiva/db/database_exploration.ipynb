{
 "cells": [
  {
   "cell_type": "code",
   "execution_count": 1,
   "metadata": {
    "collapsed": true
   },
   "outputs": [],
   "source": [
    "from idiva.db.ncbi_scraper import get_functional_consequence_from_SNP\n",
    "from pathlib import Path\n",
    "from idiva.io import ReadVCF\n",
    "import os\n",
    "import pandas as pd\n",
    "\n",
    "BASE = (Path(os.path.abspath(\"database_exploration.ipynb\")).parent.parent.parent) / \"tests/data_for_tests/large_head\"\n",
    "\n",
    "PATHS = {\n",
    "    'ctrl': BASE / \"control.vcf\",\n",
    "    'case': BASE / \"case_processed.vcf\",\n",
    "}"
   ]
  },
  {
   "cell_type": "code",
   "execution_count": 2,
   "outputs": [],
   "source": [
    "functional_consequence_set = {'non_coding_transcript_variant,intron_variant,genic_downstream_transcript_variant'}\n",
    "\n",
    "functional_consequence_df = pd.DataFrame()"
   ],
   "metadata": {
    "collapsed": false,
    "pycharm": {
     "name": "#%%\n"
    }
   }
  },
  {
   "cell_type": "code",
   "execution_count": 63,
   "outputs": [
    {
     "name": "stderr",
     "output_type": "stream",
     "text": [
      "/Users/Hendrik/Documents/master3/Computaitonal_Biomedicine/Team03/project2/solution/idiva/db/ncbi_scraper.py:47: GuessedAtParserWarning: No parser was explicitly specified, so I'm using the best available HTML parser for this system (\"lxml\"). This usually isn't a problem, but if you run this code on another system, or in a different virtual environment, it may use a different parser and behave differently.\n",
      "\n",
      "The code that caused this warning is on line 47 of the file /Users/Hendrik/Documents/master3/Computaitonal_Biomedicine/Team03/project2/solution/idiva/db/ncbi_scraper.py. To get rid of this warning, pass the additional argument 'features=\"lxml\"' to the BeautifulSoup constructor.\n",
      "\n",
      "  soup = BeautifulSoup(page.content)\n"
     ]
    }
   ],
   "source": [
    "with open(PATHS['ctrl'], mode='r') as fd:\n",
    "    for elem in ReadVCF(fd):\n",
    "        info = get_functional_consequence_from_SNP(elem.id)\n",
    "        functional_consequence_set.add(info)\n",
    "        functional_consequence_df = functional_consequence_df.append({'rs_ID':elem.id,'functional_consequence': info}, ignore_index=True)"
   ],
   "metadata": {
    "collapsed": false,
    "pycharm": {
     "name": "#%%\n"
    }
   }
  },
  {
   "cell_type": "code",
   "execution_count": 4,
   "outputs": [],
   "source": [
    "with open(PATHS['case'], mode='r') as fd:\n",
    "    for elem in ReadVCF(fd):\n",
    "        info = get_functional_consequence_from_SNP(elem.id)\n",
    "        functional_consequence_set.add(info)\n",
    "        functional_consequence_df = functional_consequence_df.append({'rs_ID':elem.id,'functional_consequence': info}, ignore_index=True)"
   ],
   "metadata": {
    "collapsed": false,
    "pycharm": {
     "name": "#%%\n"
    }
   }
  },
  {
   "cell_type": "code",
   "execution_count": 5,
   "outputs": [
    {
     "data": {
      "text/plain": "                                functional_consequence        rs_ID\n0    genic_downstream_transcript_variant,intron_var...  rs556541063\n1    genic_downstream_transcript_variant,intron_var...  rs145615430\n2    intron_variant,genic_downstream_transcript_var...  rs148170422\n3    intron_variant,genic_downstream_transcript_var...  rs183779916\n4    genic_downstream_transcript_variant,intron_var...  rs562410061\n..                                                 ...          ...\n195  non_coding_transcript_variant,intron_variant,g...  rs532922553\n196  intron_variant,non_coding_transcript_variant,g...   rs80215721\n197  intron_variant,non_coding_transcript_variant,g...  rs191439637\n198  intron_variant,non_coding_transcript_variant,g...  rs149757548\n199  genic_downstream_transcript_variant,intron_var...  rs555472791\n\n[200 rows x 2 columns]",
      "text/html": "<div>\n<style scoped>\n    .dataframe tbody tr th:only-of-type {\n        vertical-align: middle;\n    }\n\n    .dataframe tbody tr th {\n        vertical-align: top;\n    }\n\n    .dataframe thead th {\n        text-align: right;\n    }\n</style>\n<table border=\"1\" class=\"dataframe\">\n  <thead>\n    <tr style=\"text-align: right;\">\n      <th></th>\n      <th>functional_consequence</th>\n      <th>rs_ID</th>\n    </tr>\n  </thead>\n  <tbody>\n    <tr>\n      <th>0</th>\n      <td>genic_downstream_transcript_variant,intron_var...</td>\n      <td>rs556541063</td>\n    </tr>\n    <tr>\n      <th>1</th>\n      <td>genic_downstream_transcript_variant,intron_var...</td>\n      <td>rs145615430</td>\n    </tr>\n    <tr>\n      <th>2</th>\n      <td>intron_variant,genic_downstream_transcript_var...</td>\n      <td>rs148170422</td>\n    </tr>\n    <tr>\n      <th>3</th>\n      <td>intron_variant,genic_downstream_transcript_var...</td>\n      <td>rs183779916</td>\n    </tr>\n    <tr>\n      <th>4</th>\n      <td>genic_downstream_transcript_variant,intron_var...</td>\n      <td>rs562410061</td>\n    </tr>\n    <tr>\n      <th>...</th>\n      <td>...</td>\n      <td>...</td>\n    </tr>\n    <tr>\n      <th>195</th>\n      <td>non_coding_transcript_variant,intron_variant,g...</td>\n      <td>rs532922553</td>\n    </tr>\n    <tr>\n      <th>196</th>\n      <td>intron_variant,non_coding_transcript_variant,g...</td>\n      <td>rs80215721</td>\n    </tr>\n    <tr>\n      <th>197</th>\n      <td>intron_variant,non_coding_transcript_variant,g...</td>\n      <td>rs191439637</td>\n    </tr>\n    <tr>\n      <th>198</th>\n      <td>intron_variant,non_coding_transcript_variant,g...</td>\n      <td>rs149757548</td>\n    </tr>\n    <tr>\n      <th>199</th>\n      <td>genic_downstream_transcript_variant,intron_var...</td>\n      <td>rs555472791</td>\n    </tr>\n  </tbody>\n</table>\n<p>200 rows × 2 columns</p>\n</div>"
     },
     "execution_count": 5,
     "metadata": {},
     "output_type": "execute_result"
    }
   ],
   "source": [
    "functional_consequence_df"
   ],
   "metadata": {
    "collapsed": false,
    "pycharm": {
     "name": "#%%\n"
    }
   }
  },
  {
   "cell_type": "code",
   "execution_count": 6,
   "outputs": [
    {
     "name": "stdout",
     "output_type": "stream",
     "text": [
      "{'intron_variant,non_coding_transcript_variant,genic_downstream_transcript_variant\\n', 'non_coding_transcript_variant,intron_variant,genic_downstream_transcript_variant\\n', 'intron_variant,genic_downstream_transcript_variant\\n', 'genic_downstream_transcript_variant,downstream_transcript_variant,intron_variant\\n', 'genic_downstream_transcript_variant,intron_variant,downstream_transcript_variant\\n', 'downstream_transcript_variant,intron_variant,genic_downstream_transcript_variant\\n', 'G=0.0006/3\\n(1000Genomes)', 'genic_downstream_transcript_variant,intron_variant\\n', 'intron_variant,downstream_transcript_variant,genic_downstream_transcript_variant\\n', 'genic_downstream_transcript_variant,intron_variant,non_coding_transcript_variant\\n', 'non_coding_transcript_variant,intron_variant,genic_downstream_transcript_variant'}\n"
     ]
    }
   ],
   "source": [
    "print(functional_consequence_set)"
   ],
   "metadata": {
    "collapsed": false,
    "pycharm": {
     "name": "#%%\n"
    }
   }
  },
  {
   "cell_type": "code",
   "execution_count": 4,
   "outputs": [],
   "source": [
    "import findspark\n",
    "\n",
    "findspark.init()\n",
    "\n"
   ],
   "metadata": {
    "collapsed": false,
    "pycharm": {
     "name": "#%%\n"
    }
   }
  },
  {
   "cell_type": "code",
   "execution_count": 5,
   "outputs": [],
   "source": [
    "from pyspark import SparkContext\n",
    "sc = SparkContext(\"local\", \"MySparkApp\")"
   ],
   "metadata": {
    "collapsed": false,
    "pycharm": {
     "name": "#%%\n"
    }
   }
  },
  {
   "cell_type": "code",
   "execution_count": 6,
   "outputs": [],
   "source": [
    "from pyspark.sql import SparkSession\n",
    "\n",
    "spark = SparkSession.builder.getOrCreate()"
   ],
   "metadata": {
    "collapsed": false,
    "pycharm": {
     "name": "#%%\n"
    }
   }
  },
  {
   "cell_type": "markdown",
   "source": [
    "# Reading clinvar file into spark"
   ],
   "metadata": {
    "collapsed": false,
    "pycharm": {
     "name": "#%% md\n"
    }
   }
  },
  {
   "cell_type": "code",
   "execution_count": 7,
   "outputs": [],
   "source": [
    "clinvar_csv_gzip_path = Path(os.path.abspath(\"database_exploration.ipynb\")).parent.parent.parent/ 'data/clinvar.gzip'\n",
    "clinvar_csv_path = Path(os.path.abspath(\"database_exploration.ipynb\")).parent.parent.parent/ 'data/clinvar.csv'"
   ],
   "metadata": {
    "collapsed": false,
    "pycharm": {
     "name": "#%%\n"
    }
   }
  },
  {
   "cell_type": "code",
   "execution_count": 8,
   "outputs": [
    {
     "name": "stderr",
     "output_type": "stream",
     "text": [
      "/Users/Hendrik/opt/anaconda3/envs/cbm_project1_env/lib/python3.7/site-packages/IPython/core/interactiveshell.py:3147: DtypeWarning: Columns (0,29) have mixed types.Specify dtype option on import or set low_memory=False.\n",
      "  interactivity=interactivity, compiler=compiler, result=result)\n"
     ]
    }
   ],
   "source": [
    "if not clinvar_csv_path.is_file():\n",
    "    from idiva.db import clinvar_open\n",
    "    from idiva.io import ReadVCF\n",
    "    from idiva.db.clinvar import clinvar_to_df\n",
    "    with clinvar_open(which='vcf_37') as fd:\n",
    "        pdf_clinvar = clinvar_to_df(ReadVCF(fd))\n",
    "    pdf_clinvar.to_csv(clinvar_csv_path, index = False)\n",
    "else:\n",
    "    pdf_clinvar = pd.read_csv(clinvar_csv_path)\n"
   ],
   "metadata": {
    "collapsed": false,
    "pycharm": {
     "name": "#%%\n"
    }
   }
  },
  {
   "cell_type": "code",
   "execution_count": 9,
   "outputs": [],
   "source": [
    "df_clinvar=spark.read.options(header='true').csv(str(clinvar_csv_path))"
   ],
   "metadata": {
    "collapsed": false,
    "pycharm": {
     "name": "#%%\n"
    }
   }
  },
  {
   "cell_type": "code",
   "execution_count": 10,
   "outputs": [
    {
     "name": "stdout",
     "output_type": "stream",
     "text": [
      "+-----+------+------+---+---+----+------+------+-------+--------+---------------+------------+--------------------+--------------------+--------------------+--------------------+----------+-------------+--------------------+------+-------+-------+-------+----------+-----+----------+------------+---------+----------+-------+\n",
      "|chrom|   pos|    id|ref|alt|qual|filter|format|samples|ALLELEID|       CLNDISDB|       CLNDN|             CLNHGVS|          CLNREVSTAT|              CLNSIG|               CLNVC|   CLNVCSO|     GENEINFO|                  MC|ORIGIN| AF_ESP|AF_EXAC| AF_TGP|        RS|CLNVI|CLNSIGCONF|CLNDISDBINCL|CLNDNINCL|CLNSIGINCL|DBVARID|\n",
      "+-----+------+------+---+---+----+------+------+-------+--------+---------------+------------+--------------------+--------------------+--------------------+--------------------+----------+-------------+--------------------+------+-------+-------+-------+----------+-----+----------+------------+---------+----------+-------+\n",
      "|    1|865568|846933|  G|  A|null|     .|  null|   null|  824438|MedGen:CN517202|not_provided|NC_000001.10:g.86...|criteria_provided...|Uncertain_signifi...|single_nucleotide...|SO:0001483|SAMD11:148398|SO:0001583|missen...|     1|   null|   null|   null|      null| null|      null|        null|     null|      null|   null|\n",
      "|    1|865583|972363|  C|  T|null|     .|  null|   null|  959431|MedGen:CN517202|not_provided|NC_000001.10:g.86...|criteria_provided...|Uncertain_signifi...|single_nucleotide...|SO:0001483|SAMD11:148398|SO:0001583|missen...|     1|   null|   null|   null|      null| null|      null|        null|     null|      null|   null|\n",
      "|    1|865628|789256|  G|  A|null|     .|  null|   null|  707587|MedGen:CN517202|not_provided|NC_000001.10:g.86...|criteria_provided...|       Likely_benign|single_nucleotide...|SO:0001483|SAMD11:148398|SO:0001583|missen...|     1|0.00347|0.00622|0.00280|rs41285790| null|      null|        null|     null|      null|   null|\n",
      "|    1|865655|969662|  T|  G|null|     .|  null|   null|  959432|MedGen:CN517202|not_provided|NC_000001.10:g.86...|criteria_provided...|Uncertain_signifi...|single_nucleotide...|SO:0001483|SAMD11:148398|SO:0001583|missen...|     1|   null|   null|   null|      null| null|      null|        null|     null|      null|   null|\n",
      "|    1|865716|843786|  G|  A|null|     .|  null|   null|  824439|MedGen:CN517202|not_provided|NC_000001.10:g.86...|criteria_provided...|Uncertain_signifi...|single_nucleotide...|SO:0001483|SAMD11:148398|SO:0001583|missen...|     1|   null|   null|   null|      null| null|      null|        null|     null|      null|   null|\n",
      "|    1|866419|956114|  A|  G|null|     .|  null|   null|  951973|MedGen:CN517202|not_provided|NC_000001.10:g.86...|criteria_provided...|Uncertain_signifi...|single_nucleotide...|SO:0001483|SAMD11:148398|SO:0001819|synony...|     1|   null|   null|   null|      null| null|      null|        null|     null|      null|   null|\n",
      "|    1|866429|943630|  C|  T|null|     .|  null|   null|  939755|MedGen:CN517202|not_provided|NC_000001.10:g.86...|criteria_provided...|Uncertain_signifi...|single_nucleotide...|SO:0001483|SAMD11:148398|SO:0001583|missen...|     1|   null|   null|   null|      null| null|      null|        null|     null|      null|   null|\n",
      "|    1|866430|852351|  A|  G|null|     .|  null|   null|  824440|MedGen:CN517202|not_provided|NC_000001.10:g.86...|criteria_provided...|Uncertain_signifi...|single_nucleotide...|SO:0001483|SAMD11:148398|SO:0001583|missen...|     1|   null|   null|   null|      null| null|      null|        null|     null|      null|   null|\n",
      "|    1|871213|962835|  C|  G|null|     .|  null|   null|  951974|MedGen:CN517202|not_provided|NC_000001.10:g.87...|criteria_provided...|Uncertain_signifi...|single_nucleotide...|SO:0001483|SAMD11:148398|SO:0001583|missen...|     1|   null|   null|   null|      null| null|      null|        null|     null|      null|   null|\n",
      "|    1|871227|862561|  C|  G|null|     .|  null|   null|  824441|MedGen:CN517202|not_provided|NC_000001.10:g.87...|criteria_provided...|Uncertain_signifi...|single_nucleotide...|SO:0001483|SAMD11:148398|SO:0001583|missen...|     1|   null|   null|   null|      null| null|      null|        null|     null|      null|   null|\n",
      "+-----+------+------+---+---+----+------+------+-------+--------+---------------+------------+--------------------+--------------------+--------------------+--------------------+----------+-------------+--------------------+------+-------+-------+-------+----------+-----+----------+------------+---------+----------+-------+\n",
      "only showing top 10 rows\n",
      "\n"
     ]
    }
   ],
   "source": [
    "df_clinvar.show(10)"
   ],
   "metadata": {
    "collapsed": false,
    "pycharm": {
     "name": "#%%\n"
    }
   }
  },
  {
   "cell_type": "markdown",
   "source": [
    "# Reading clf files \"ctrl\" and \"case\" into spark"
   ],
   "metadata": {
    "collapsed": false,
    "pycharm": {
     "name": "#%% md\n"
    }
   }
  },
  {
   "cell_type": "code",
   "execution_count": 11,
   "outputs": [
    {
     "name": "stdout",
     "output_type": "stream",
     "text": [
      "/Users/Hendrik/Documents/master3/Computaitonal_Biomedicine/Team03/project2/input/download_cache\n"
     ]
    }
   ],
   "source": [
    "from pathlib import Path\n",
    "\n",
    "from tcga.utils import download\n",
    "download_cache = (Path(os.path.abspath(\"database_exploration.ipynb\")).parent.parent.parent.parent / \"input/download_cache\")\n",
    "print(download_cache)\n",
    "assert download_cache.is_dir()"
   ],
   "metadata": {
    "collapsed": false,
    "pycharm": {
     "name": "#%%\n"
    }
   }
  },
  {
   "cell_type": "code",
   "execution_count": 12,
   "outputs": [],
   "source": [
    "download = download.to(abs_path=download_cache)\n",
    "\n",
    "URLS = {\n",
    "    'ctrl': \"https://public.bmi.inf.ethz.ch/eth_intern/teaching/cbm_2020/cbm_2020_project2/control.vcf\",\n",
    "    'case': \"https://public.bmi.inf.ethz.ch/eth_intern/teaching/cbm_2020/cbm_2020_project2/case_processed.vcf\",\n",
    "}\n",
    "case_control_csv_path = Path(os.path.abspath(\"database_exploration.ipynb\")).parent.parent.parent.parent / \"input/head/case_control.csv\""
   ],
   "metadata": {
    "collapsed": false,
    "pycharm": {
     "name": "#%%\n"
    }
   }
  },
  {
   "cell_type": "code",
   "execution_count": 13,
   "outputs": [],
   "source": [
    "if case_control_csv_path.is_file():\n",
    "    pdf_case_control = pd.read_csv(case_control_csv_path)\n",
    "else:\n",
    "    from idiva.io import ReadVCF\n",
    "    from idiva.clf.df import v0_df, join\n",
    "    dfs = {}\n",
    "\n",
    "    for k in URLS:\n",
    "        with download(URLS[k]).now.open() as fd:\n",
    "            dfs[k] = v0_df(ReadVCF(fd))\n",
    "\n",
    "    pdf_case_control = join(case=dfs['case'], ctrl=dfs['ctrl'])\n",
    "    pdf_case_control.to_csv(case_control_csv_path,index = False)\n"
   ],
   "metadata": {
    "collapsed": false,
    "pycharm": {
     "name": "#%%\n"
    }
   }
  },
  {
   "cell_type": "code",
   "execution_count": 14,
   "outputs": [
    {
     "data": {
      "text/plain": "   CHROM  POS           ID  ALT0_case  ALT1_case  ALT2_case  ALT0_ctrl  \\\n0     17   52  rs556541063      314.0        0.0        0.0      500.0   \n1     17   56  rs145615430      314.0        0.0        0.0      498.0   \n2     17   78  rs148170422      311.0        3.0        0.0      499.0   \n3     17   80  rs183779916      313.0        1.0        0.0      497.0   \n4     17   92  rs562410061      314.0        0.0        0.0      500.0   \n\n   ALT1_ctrl  ALT2_ctrl  \n0        0.0        0.0  \n1        2.0        0.0  \n2        1.0        0.0  \n3        3.0        0.0  \n4        0.0        0.0  ",
      "text/html": "<div>\n<style scoped>\n    .dataframe tbody tr th:only-of-type {\n        vertical-align: middle;\n    }\n\n    .dataframe tbody tr th {\n        vertical-align: top;\n    }\n\n    .dataframe thead th {\n        text-align: right;\n    }\n</style>\n<table border=\"1\" class=\"dataframe\">\n  <thead>\n    <tr style=\"text-align: right;\">\n      <th></th>\n      <th>CHROM</th>\n      <th>POS</th>\n      <th>ID</th>\n      <th>ALT0_case</th>\n      <th>ALT1_case</th>\n      <th>ALT2_case</th>\n      <th>ALT0_ctrl</th>\n      <th>ALT1_ctrl</th>\n      <th>ALT2_ctrl</th>\n    </tr>\n  </thead>\n  <tbody>\n    <tr>\n      <th>0</th>\n      <td>17</td>\n      <td>52</td>\n      <td>rs556541063</td>\n      <td>314.0</td>\n      <td>0.0</td>\n      <td>0.0</td>\n      <td>500.0</td>\n      <td>0.0</td>\n      <td>0.0</td>\n    </tr>\n    <tr>\n      <th>1</th>\n      <td>17</td>\n      <td>56</td>\n      <td>rs145615430</td>\n      <td>314.0</td>\n      <td>0.0</td>\n      <td>0.0</td>\n      <td>498.0</td>\n      <td>2.0</td>\n      <td>0.0</td>\n    </tr>\n    <tr>\n      <th>2</th>\n      <td>17</td>\n      <td>78</td>\n      <td>rs148170422</td>\n      <td>311.0</td>\n      <td>3.0</td>\n      <td>0.0</td>\n      <td>499.0</td>\n      <td>1.0</td>\n      <td>0.0</td>\n    </tr>\n    <tr>\n      <th>3</th>\n      <td>17</td>\n      <td>80</td>\n      <td>rs183779916</td>\n      <td>313.0</td>\n      <td>1.0</td>\n      <td>0.0</td>\n      <td>497.0</td>\n      <td>3.0</td>\n      <td>0.0</td>\n    </tr>\n    <tr>\n      <th>4</th>\n      <td>17</td>\n      <td>92</td>\n      <td>rs562410061</td>\n      <td>314.0</td>\n      <td>0.0</td>\n      <td>0.0</td>\n      <td>500.0</td>\n      <td>0.0</td>\n      <td>0.0</td>\n    </tr>\n  </tbody>\n</table>\n</div>"
     },
     "execution_count": 14,
     "metadata": {},
     "output_type": "execute_result"
    }
   ],
   "source": [
    "pdf_case_control.head()"
   ],
   "metadata": {
    "collapsed": false,
    "pycharm": {
     "name": "#%%\n"
    }
   }
  },
  {
   "cell_type": "code",
   "execution_count": 15,
   "outputs": [],
   "source": [
    "df_case_control=spark.read.options(header='true').csv(str(case_control_csv_path))"
   ],
   "metadata": {
    "collapsed": false,
    "pycharm": {
     "name": "#%%\n"
    }
   }
  },
  {
   "cell_type": "code",
   "execution_count": 16,
   "outputs": [
    {
     "name": "stdout",
     "output_type": "stream",
     "text": [
      "+-----+---+-----------+---------+---------+---------+---------+---------+---------+\n",
      "|CHROM|POS|         ID|ALT0_case|ALT1_case|ALT2_case|ALT0_ctrl|ALT1_ctrl|ALT2_ctrl|\n",
      "+-----+---+-----------+---------+---------+---------+---------+---------+---------+\n",
      "|   17| 52|rs556541063|    314.0|      0.0|      0.0|    500.0|      0.0|      0.0|\n",
      "|   17| 56|rs145615430|    314.0|      0.0|      0.0|    498.0|      2.0|      0.0|\n",
      "|   17| 78|rs148170422|    311.0|      3.0|      0.0|    499.0|      1.0|      0.0|\n",
      "|   17| 80|rs183779916|    313.0|      1.0|      0.0|    497.0|      3.0|      0.0|\n",
      "|   17| 92|rs562410061|    314.0|      0.0|      0.0|    500.0|      0.0|      0.0|\n",
      "|   17|168|rs529798787|    314.0|      0.0|      0.0|    499.0|      1.0|      0.0|\n",
      "|   17|173|rs536031036|    314.0|      0.0|      0.0|    500.0|      0.0|      0.0|\n",
      "|   17|174|rs188505217|    314.0|      0.0|      0.0|    500.0|      0.0|      0.0|\n",
      "|   17|185|rs528728697|    313.0|      1.0|      0.0|    500.0|      0.0|      0.0|\n",
      "|   17|186|rs547289895|    314.0|      0.0|      0.0|    500.0|      0.0|      0.0|\n",
      "+-----+---+-----------+---------+---------+---------+---------+---------+---------+\n",
      "only showing top 10 rows\n",
      "\n"
     ]
    }
   ],
   "source": [
    "df_case_control.show(10)"
   ],
   "metadata": {
    "collapsed": false,
    "pycharm": {
     "name": "#%%\n"
    }
   }
  },
  {
   "cell_type": "code",
   "execution_count": 17,
   "outputs": [],
   "source": [
    "df_case_control.registerTempTable('case_control')\n",
    "df_clinvar.registerTempTable('clinvar')\n",
    "\n"
   ],
   "metadata": {
    "collapsed": false,
    "pycharm": {
     "name": "#%%\n"
    }
   }
  },
  {
   "cell_type": "code",
   "execution_count": 18,
   "outputs": [],
   "source": [
    "temp = spark.sql(\"select * from case_control, clinvar where clinvar.RS = case_control.ID\")"
   ],
   "metadata": {
    "collapsed": false,
    "pycharm": {
     "name": "#%%\n"
    }
   }
  },
  {
   "cell_type": "code",
   "execution_count": 19,
   "outputs": [
    {
     "name": "stdout",
     "output_type": "stream",
     "text": [
      "+-----+--------+-----------+---------+---------+---------+---------+---------+---------+-----+--------+------+---+---+----+------+------+-------+--------+--------------------+--------------------+--------------------+--------------------+--------------------+--------------------+----------+--------------+--------------------+------+-------+-------+-------+-----------+--------------------+--------------------+------------+---------+----------+-------+\n",
      "|CHROM|     POS|         ID|ALT0_case|ALT1_case|ALT2_case|ALT0_ctrl|ALT1_ctrl|ALT2_ctrl|chrom|     pos|    id|ref|alt|qual|filter|format|samples|ALLELEID|            CLNDISDB|               CLNDN|             CLNHGVS|          CLNREVSTAT|              CLNSIG|               CLNVC|   CLNVCSO|      GENEINFO|                  MC|ORIGIN| AF_ESP|AF_EXAC| AF_TGP|         RS|               CLNVI|          CLNSIGCONF|CLNDISDBINCL|CLNDNINCL|CLNSIGINCL|DBVARID|\n",
      "+-----+--------+-----------+---------+---------+---------+---------+---------+---------+-----+--------+------+---+---+----+------+------+-------+--------+--------------------+--------------------+--------------------+--------------------+--------------------+--------------------+----------+--------------+--------------------+------+-------+-------+-------+-----------+--------------------+--------------------+------------+---------+----------+-------+\n",
      "|   17|28576076|  rs1050565|    195.0|     94.0|     25.0|    291.0|    165.0|     44.0|   17|28576076|  7248|  T|  C|null|     .|  null|   null|   22287|                   .|BLEOMYCIN_HYDROLA...|NC_000017.10:g.28...|no_assertion_crit...|              Benign|single_nucleotide...|SO:0001483|      BLMH:642|SO:0001583|missen...|     1|   null|0.29983|0.25379|  rs1050565|OMIM_Allelic_Vari...|                null|        null|     null|      null|   null|\n",
      "|   17|73813398|rs113930559|    302.0|     11.0|      1.0|    484.0|     15.0|      1.0|   17|73813398|775334|  T|  C|null|     .|  null|   null|  778298|     MedGen:CN517202|        not_provided|NC_000017.10:g.73...|criteria_provided...|              Benign|single_nucleotide...|SO:0001483|     UNK:85451|SO:0001627|intron...|     1|0.01802|0.00629|0.01817|rs113930559|                null|                null|        null|     null|      null|   null|\n",
      "|   17|78317762|rs114333705|    310.0|      4.0|      0.0|    492.0|      7.0|      1.0|   17|78317762|709951|  G|  A|null|     .|  null|   null|  727524|     MedGen:CN517202|        not_provided|NC_000017.10:g.78...|criteria_provided...|              Benign|single_nucleotide...|SO:0001483|  RNF213:57674|SO:0001583|missen...|     1|0.00669|0.00168|0.00639|rs114333705|                null|                null|        null|     null|      null|   null|\n",
      "|   17| 8219400|rs115756996|    312.0|      2.0|      0.0|    499.0|      1.0|      0.0|   17| 8219400|461428|  G|  A|null|     .|  null|   null|  468764|MONDO:MONDO:00160...|Early_infantile_e...|NC_000017.10:g.82...|criteria_provided...|              Benign|single_nucleotide...|SO:0001483|ARHGEF15:22899|SO:0001819|synony...|     1|0.00193|0.00046|0.00200|rs115756996|                null|                null|        null|     null|      null|   null|\n",
      "|   17|33513337| rs11654824|    290.0|     23.0|      1.0|    459.0|     39.0|      2.0|   17|33513337|677287|  T|  A|null|     .|  null|   null|  656425|     MedGen:CN517202|        not_provided|NC_000017.10:g.33...|criteria_provided...|              Benign|single_nucleotide...|SO:0001483| UNC45B:146862|SO:0001583|missen...|     1|0.05321|0.05591|0.03375| rs11654824|                null|                null|        null|     null|      null|   null|\n",
      "|   17|61278229|rs117690040|    305.0|      9.0|      0.0|    497.0|      3.0|      0.0|   17|61278229|782551|  T|  G|null|     .|  null|   null|  715610|     MedGen:CN517202|        not_provided|NC_000017.10:g.61...|criteria_provided...|              Benign|single_nucleotide...|SO:0001483|   TANC2:26115|SO:0001583|missen...|     1|0.01003|0.00969|0.00539|rs117690040|                null|                null|        null|     null|      null|   null|\n",
      "|   17|72759575|rs119486097|    314.0|      0.0|      0.0|    498.0|      2.0|      0.0|   17|72759575|  5272|  G|  A|null|     .|  null|   null|   20311|Human_Phenotype_O...|Nephrolithiasis|H...|NC_000017.10:g.72...|criteria_provided...|       Likely_benign|single_nucleotide...|SO:0001483| SLC9A3R1:9368|SO:0001583|missen...|     1|   null|0.00346|0.00100|rs119486097|OMIM_Allelic_Vari...|                null|        null|     null|      null|   null|\n",
      "|   17|78022564|rs138001923|    314.0|      0.0|      0.0|    500.0|      0.0|      0.0|   17|78022564|281727|  A|  G|null|     .|  null|   null|  265964|Human_Phenotype_O...|Primary_ciliary_d...|NC_000017.10:g.78...|criteria_provided...|Conflicting_inter...|single_nucleotide...|SO:0001483|  CCDC40:55036|SO:0001627|intron...|     1|   null|0.00027|0.00040|rs138001923|                null|Likely_benign(1),...|        null|     null|      null|   null|\n",
      "|   17|39975563|rs138089753|    314.0|      0.0|      0.0|    500.0|      0.0|      0.0|   17|39975563|439728|  C|  G|null|     .|  null|   null|  433570|     MedGen:CN169374|       not_specified|NC_000017.10:g.39...|criteria_provided...|Uncertain_signifi...|single_nucleotide...|SO:0001483|  FKBP10:60681|SO:0001583|missen...|     1|0.00023|   null|0.00040|rs138089753|ARUP_Laboratories...|                null|        null|     null|      null|   null|\n",
      "|   17|19643699|rs142078447|    313.0|      1.0|      0.0|    496.0|      4.0|      0.0|   17|19643699|778684|  C|  T|null|     .|  null|   null|  704015|     MedGen:CN517202|        not_provided|NC_000017.10:g.19...|criteria_provided...|              Benign|single_nucleotide...|SO:0001483|   ALDH3A1:218|SO:0001583|missen...|     1|0.00684|0.00729|0.00359|rs142078447|                null|                null|        null|     null|      null|   null|\n",
      "+-----+--------+-----------+---------+---------+---------+---------+---------+---------+-----+--------+------+---+---+----+------+------+-------+--------+--------------------+--------------------+--------------------+--------------------+--------------------+--------------------+----------+--------------+--------------------+------+-------+-------+-------+-----------+--------------------+--------------------+------------+---------+----------+-------+\n",
      "only showing top 10 rows\n",
      "\n"
     ]
    }
   ],
   "source": [
    "temp.show(10)"
   ],
   "metadata": {
    "collapsed": false,
    "pycharm": {
     "name": "#%%\n"
    }
   }
  },
  {
   "cell_type": "markdown",
   "source": [
    "# With pandas\n",
    "### pandas merge nans with nan, not sure how to cope with that."
   ],
   "metadata": {
    "collapsed": false,
    "pycharm": {
     "name": "#%% md\n"
    }
   }
  },
  {
   "cell_type": "code",
   "execution_count": 20,
   "outputs": [
    {
     "data": {
      "text/plain": "  chrom     pos      id ref alt  qual filter  format  samples  ALLELEID  ...  \\\n0     1  865568  846933   G   A   NaN      .     NaN      NaN    824438  ...   \n1     1  865583  972363   C   T   NaN      .     NaN      NaN    959431  ...   \n2     1  865628  789256   G   A   NaN      .     NaN      NaN    707587  ...   \n3     1  865655  969662   T   G   NaN      .     NaN      NaN    959432  ...   \n4     1  865716  843786   G   A   NaN      .     NaN      NaN    824439  ...   \n\n    AF_ESP  AF_EXAC  AF_TGP          RS CLNVI CLNSIGCONF CLNDISDBINCL  \\\n0      NaN      NaN     NaN         NaN   NaN        NaN          NaN   \n1      NaN      NaN     NaN         NaN   NaN        NaN          NaN   \n2  0.00347  0.00622  0.0028  rs41285790   NaN        NaN          NaN   \n3      NaN      NaN     NaN         NaN   NaN        NaN          NaN   \n4      NaN      NaN     NaN         NaN   NaN        NaN          NaN   \n\n  CLNDNINCL CLNSIGINCL  DBVARID  \n0       NaN        NaN      NaN  \n1       NaN        NaN      NaN  \n2       NaN        NaN      NaN  \n3       NaN        NaN      NaN  \n4       NaN        NaN      NaN  \n\n[5 rows x 30 columns]",
      "text/html": "<div>\n<style scoped>\n    .dataframe tbody tr th:only-of-type {\n        vertical-align: middle;\n    }\n\n    .dataframe tbody tr th {\n        vertical-align: top;\n    }\n\n    .dataframe thead th {\n        text-align: right;\n    }\n</style>\n<table border=\"1\" class=\"dataframe\">\n  <thead>\n    <tr style=\"text-align: right;\">\n      <th></th>\n      <th>chrom</th>\n      <th>pos</th>\n      <th>id</th>\n      <th>ref</th>\n      <th>alt</th>\n      <th>qual</th>\n      <th>filter</th>\n      <th>format</th>\n      <th>samples</th>\n      <th>ALLELEID</th>\n      <th>...</th>\n      <th>AF_ESP</th>\n      <th>AF_EXAC</th>\n      <th>AF_TGP</th>\n      <th>RS</th>\n      <th>CLNVI</th>\n      <th>CLNSIGCONF</th>\n      <th>CLNDISDBINCL</th>\n      <th>CLNDNINCL</th>\n      <th>CLNSIGINCL</th>\n      <th>DBVARID</th>\n    </tr>\n  </thead>\n  <tbody>\n    <tr>\n      <th>0</th>\n      <td>1</td>\n      <td>865568</td>\n      <td>846933</td>\n      <td>G</td>\n      <td>A</td>\n      <td>NaN</td>\n      <td>.</td>\n      <td>NaN</td>\n      <td>NaN</td>\n      <td>824438</td>\n      <td>...</td>\n      <td>NaN</td>\n      <td>NaN</td>\n      <td>NaN</td>\n      <td>NaN</td>\n      <td>NaN</td>\n      <td>NaN</td>\n      <td>NaN</td>\n      <td>NaN</td>\n      <td>NaN</td>\n      <td>NaN</td>\n    </tr>\n    <tr>\n      <th>1</th>\n      <td>1</td>\n      <td>865583</td>\n      <td>972363</td>\n      <td>C</td>\n      <td>T</td>\n      <td>NaN</td>\n      <td>.</td>\n      <td>NaN</td>\n      <td>NaN</td>\n      <td>959431</td>\n      <td>...</td>\n      <td>NaN</td>\n      <td>NaN</td>\n      <td>NaN</td>\n      <td>NaN</td>\n      <td>NaN</td>\n      <td>NaN</td>\n      <td>NaN</td>\n      <td>NaN</td>\n      <td>NaN</td>\n      <td>NaN</td>\n    </tr>\n    <tr>\n      <th>2</th>\n      <td>1</td>\n      <td>865628</td>\n      <td>789256</td>\n      <td>G</td>\n      <td>A</td>\n      <td>NaN</td>\n      <td>.</td>\n      <td>NaN</td>\n      <td>NaN</td>\n      <td>707587</td>\n      <td>...</td>\n      <td>0.00347</td>\n      <td>0.00622</td>\n      <td>0.0028</td>\n      <td>rs41285790</td>\n      <td>NaN</td>\n      <td>NaN</td>\n      <td>NaN</td>\n      <td>NaN</td>\n      <td>NaN</td>\n      <td>NaN</td>\n    </tr>\n    <tr>\n      <th>3</th>\n      <td>1</td>\n      <td>865655</td>\n      <td>969662</td>\n      <td>T</td>\n      <td>G</td>\n      <td>NaN</td>\n      <td>.</td>\n      <td>NaN</td>\n      <td>NaN</td>\n      <td>959432</td>\n      <td>...</td>\n      <td>NaN</td>\n      <td>NaN</td>\n      <td>NaN</td>\n      <td>NaN</td>\n      <td>NaN</td>\n      <td>NaN</td>\n      <td>NaN</td>\n      <td>NaN</td>\n      <td>NaN</td>\n      <td>NaN</td>\n    </tr>\n    <tr>\n      <th>4</th>\n      <td>1</td>\n      <td>865716</td>\n      <td>843786</td>\n      <td>G</td>\n      <td>A</td>\n      <td>NaN</td>\n      <td>.</td>\n      <td>NaN</td>\n      <td>NaN</td>\n      <td>824439</td>\n      <td>...</td>\n      <td>NaN</td>\n      <td>NaN</td>\n      <td>NaN</td>\n      <td>NaN</td>\n      <td>NaN</td>\n      <td>NaN</td>\n      <td>NaN</td>\n      <td>NaN</td>\n      <td>NaN</td>\n      <td>NaN</td>\n    </tr>\n  </tbody>\n</table>\n<p>5 rows × 30 columns</p>\n</div>"
     },
     "execution_count": 20,
     "metadata": {},
     "output_type": "execute_result"
    }
   ],
   "source": [
    "pdf_clinvar.head()"
   ],
   "metadata": {
    "collapsed": false,
    "pycharm": {
     "name": "#%%\n"
    }
   }
  },
  {
   "cell_type": "code",
   "execution_count": 53,
   "outputs": [],
   "source": [
    "merge_on_RS = pdf_case_control.merge(pdf_clinvar[~pdf_clinvar.RS.isna()], left_on='ID', right_on='RS', how='inner')"
   ],
   "metadata": {
    "collapsed": false,
    "pycharm": {
     "name": "#%%\n"
    }
   }
  },
  {
   "cell_type": "code",
   "execution_count": 36,
   "outputs": [
    {
     "data": {
      "text/plain": "   CHROM     POS           ID  ALT0_case  ALT1_case  ALT2_case  ALT0_ctrl  \\\n0     17  422471  rs573812629      314.0        0.0        0.0      498.0   \n1     17  423051    rs2034088       27.0      120.0      167.0       59.0   \n2     17  423056  rs537324339      314.0        0.0        0.0      500.0   \n3     17  424880   rs16953156      303.0       11.0        0.0      488.0   \n4     17  424934   rs59240016      308.0        4.0        2.0      491.0   \n\n   ALT1_ctrl  ALT2_ctrl chrom  ...   AF_ESP  AF_EXAC   AF_TGP           RS  \\\n0        2.0        0.0    17  ...      NaN  0.00156  0.00080  rs573812629   \n1      170.0      271.0    17  ...  0.62068      NaN  0.72664    rs2034088   \n2        0.0        0.0    17  ...      NaN  0.00014  0.00020  rs537324339   \n3       12.0        0.0    17  ...  0.02300      NaN  0.01198   rs16953156   \n4        9.0        0.0    17  ...  0.01029  0.00399  0.00879   rs59240016   \n\n   CLNVI CLNSIGCONF  CLNDISDBINCL  CLNDNINCL  CLNSIGINCL DBVARID  \n0    NaN        NaN           NaN        NaN         NaN     NaN  \n1    NaN        NaN           NaN        NaN         NaN     NaN  \n2    NaN        NaN           NaN        NaN         NaN     NaN  \n3    NaN        NaN           NaN        NaN         NaN     NaN  \n4    NaN        NaN           NaN        NaN         NaN     NaN  \n\n[5 rows x 39 columns]",
      "text/html": "<div>\n<style scoped>\n    .dataframe tbody tr th:only-of-type {\n        vertical-align: middle;\n    }\n\n    .dataframe tbody tr th {\n        vertical-align: top;\n    }\n\n    .dataframe thead th {\n        text-align: right;\n    }\n</style>\n<table border=\"1\" class=\"dataframe\">\n  <thead>\n    <tr style=\"text-align: right;\">\n      <th></th>\n      <th>CHROM</th>\n      <th>POS</th>\n      <th>ID</th>\n      <th>ALT0_case</th>\n      <th>ALT1_case</th>\n      <th>ALT2_case</th>\n      <th>ALT0_ctrl</th>\n      <th>ALT1_ctrl</th>\n      <th>ALT2_ctrl</th>\n      <th>chrom</th>\n      <th>...</th>\n      <th>AF_ESP</th>\n      <th>AF_EXAC</th>\n      <th>AF_TGP</th>\n      <th>RS</th>\n      <th>CLNVI</th>\n      <th>CLNSIGCONF</th>\n      <th>CLNDISDBINCL</th>\n      <th>CLNDNINCL</th>\n      <th>CLNSIGINCL</th>\n      <th>DBVARID</th>\n    </tr>\n  </thead>\n  <tbody>\n    <tr>\n      <th>0</th>\n      <td>17</td>\n      <td>422471</td>\n      <td>rs573812629</td>\n      <td>314.0</td>\n      <td>0.0</td>\n      <td>0.0</td>\n      <td>498.0</td>\n      <td>2.0</td>\n      <td>0.0</td>\n      <td>17</td>\n      <td>...</td>\n      <td>NaN</td>\n      <td>0.00156</td>\n      <td>0.00080</td>\n      <td>rs573812629</td>\n      <td>NaN</td>\n      <td>NaN</td>\n      <td>NaN</td>\n      <td>NaN</td>\n      <td>NaN</td>\n      <td>NaN</td>\n    </tr>\n    <tr>\n      <th>1</th>\n      <td>17</td>\n      <td>423051</td>\n      <td>rs2034088</td>\n      <td>27.0</td>\n      <td>120.0</td>\n      <td>167.0</td>\n      <td>59.0</td>\n      <td>170.0</td>\n      <td>271.0</td>\n      <td>17</td>\n      <td>...</td>\n      <td>0.62068</td>\n      <td>NaN</td>\n      <td>0.72664</td>\n      <td>rs2034088</td>\n      <td>NaN</td>\n      <td>NaN</td>\n      <td>NaN</td>\n      <td>NaN</td>\n      <td>NaN</td>\n      <td>NaN</td>\n    </tr>\n    <tr>\n      <th>2</th>\n      <td>17</td>\n      <td>423056</td>\n      <td>rs537324339</td>\n      <td>314.0</td>\n      <td>0.0</td>\n      <td>0.0</td>\n      <td>500.0</td>\n      <td>0.0</td>\n      <td>0.0</td>\n      <td>17</td>\n      <td>...</td>\n      <td>NaN</td>\n      <td>0.00014</td>\n      <td>0.00020</td>\n      <td>rs537324339</td>\n      <td>NaN</td>\n      <td>NaN</td>\n      <td>NaN</td>\n      <td>NaN</td>\n      <td>NaN</td>\n      <td>NaN</td>\n    </tr>\n    <tr>\n      <th>3</th>\n      <td>17</td>\n      <td>424880</td>\n      <td>rs16953156</td>\n      <td>303.0</td>\n      <td>11.0</td>\n      <td>0.0</td>\n      <td>488.0</td>\n      <td>12.0</td>\n      <td>0.0</td>\n      <td>17</td>\n      <td>...</td>\n      <td>0.02300</td>\n      <td>NaN</td>\n      <td>0.01198</td>\n      <td>rs16953156</td>\n      <td>NaN</td>\n      <td>NaN</td>\n      <td>NaN</td>\n      <td>NaN</td>\n      <td>NaN</td>\n      <td>NaN</td>\n    </tr>\n    <tr>\n      <th>4</th>\n      <td>17</td>\n      <td>424934</td>\n      <td>rs59240016</td>\n      <td>308.0</td>\n      <td>4.0</td>\n      <td>2.0</td>\n      <td>491.0</td>\n      <td>9.0</td>\n      <td>0.0</td>\n      <td>17</td>\n      <td>...</td>\n      <td>0.01029</td>\n      <td>0.00399</td>\n      <td>0.00879</td>\n      <td>rs59240016</td>\n      <td>NaN</td>\n      <td>NaN</td>\n      <td>NaN</td>\n      <td>NaN</td>\n      <td>NaN</td>\n      <td>NaN</td>\n    </tr>\n  </tbody>\n</table>\n<p>5 rows × 39 columns</p>\n</div>"
     },
     "execution_count": 36,
     "metadata": {},
     "output_type": "execute_result"
    }
   ],
   "source": [
    "merge_on_RS.head()"
   ],
   "metadata": {
    "collapsed": false,
    "pycharm": {
     "name": "#%%\n"
    }
   }
  },
  {
   "cell_type": "code",
   "execution_count": 37,
   "outputs": [
    {
     "data": {
      "text/plain": "0"
     },
     "execution_count": 37,
     "metadata": {},
     "output_type": "execute_result"
    }
   ],
   "source": [
    "merge_on_RS['ID'].isna().sum()"
   ],
   "metadata": {
    "collapsed": false,
    "pycharm": {
     "name": "#%%\n"
    }
   }
  },
  {
   "cell_type": "code",
   "execution_count": 39,
   "outputs": [
    {
     "data": {
      "text/plain": "10777"
     },
     "execution_count": 39,
     "metadata": {},
     "output_type": "execute_result"
    }
   ],
   "source": [
    "len(merge_on_RS)"
   ],
   "metadata": {
    "collapsed": false,
    "pycharm": {
     "name": "#%%\n"
    }
   }
  },
  {
   "cell_type": "code",
   "execution_count": 38,
   "outputs": [
    {
     "data": {
      "text/plain": "1615"
     },
     "execution_count": 38,
     "metadata": {},
     "output_type": "execute_result"
    }
   ],
   "source": [
    "merge_on_RS.loc[((temp['CLNSIG'] == 'not_provided') | (merge_on_RS['CLNSIG'] == 'Uncertain_significance')), 'CLNSIG'].count()"
   ],
   "metadata": {
    "collapsed": false,
    "pycharm": {
     "name": "#%%\n"
    }
   }
  },
  {
   "cell_type": "code",
   "execution_count": 34,
   "outputs": [
    {
     "data": {
      "text/plain": "0"
     },
     "execution_count": 34,
     "metadata": {},
     "output_type": "execute_result"
    }
   ],
   "source": [
    "pdf_clinvar['ALLELEID'].isna().sum()"
   ],
   "metadata": {
    "collapsed": false,
    "pycharm": {
     "name": "#%%\n"
    }
   }
  },
  {
   "cell_type": "code",
   "execution_count": 24,
   "outputs": [
    {
     "data": {
      "text/plain": "4"
     },
     "execution_count": 24,
     "metadata": {},
     "output_type": "execute_result"
    }
   ],
   "source": [
    "pdf_case_control['ID'].isna().sum()"
   ],
   "metadata": {
    "collapsed": false,
    "pycharm": {
     "name": "#%%\n"
    }
   }
  },
  {
   "cell_type": "markdown",
   "source": [
    "# Merging on CHROM and POS\n",
    "## In total, 12638 of the 2361508 variants in the case-control vcf match with the clinvar vcf. 2636 of those are meaningless"
   ],
   "metadata": {
    "collapsed": false,
    "pycharm": {
     "name": "#%% md\n"
    }
   }
  },
  {
   "cell_type": "code",
   "execution_count": 25,
   "outputs": [],
   "source": [
    "new_df = pd.merge(pdf_case_control.astype({'CHROM':str, 'POS':str}), pdf_clinvar.astype({'chrom':str, 'pos':str}), how='inner', left_on=['CHROM', 'POS'], right_on=['chrom', 'pos'])"
   ],
   "metadata": {
    "collapsed": false,
    "pycharm": {
     "name": "#%%\n"
    }
   }
  },
  {
   "cell_type": "code",
   "execution_count": 26,
   "outputs": [
    {
     "data": {
      "text/plain": "2361508"
     },
     "execution_count": 26,
     "metadata": {},
     "output_type": "execute_result"
    }
   ],
   "source": [
    "len(pdf_case_control)"
   ],
   "metadata": {
    "collapsed": false,
    "pycharm": {
     "name": "#%%\n"
    }
   }
  },
  {
   "cell_type": "code",
   "execution_count": 27,
   "outputs": [
    {
     "data": {
      "text/plain": "12638"
     },
     "execution_count": 27,
     "metadata": {},
     "output_type": "execute_result"
    }
   ],
   "source": [
    "len(new_df)\n"
   ],
   "metadata": {
    "collapsed": false,
    "pycharm": {
     "name": "#%%\n"
    }
   }
  },
  {
   "cell_type": "code",
   "execution_count": 28,
   "outputs": [
    {
     "data": {
      "text/plain": "{'Affects',\n 'Benign',\n 'Benign,_other',\n 'Benign/Likely_benign',\n 'Benign/Likely_benign,_other',\n 'Conflicting_interpretations_of_pathogenicity',\n 'Conflicting_interpretations_of_pathogenicity,_risk_factor',\n 'Likely_benign',\n 'Likely_pathogenic',\n 'Pathogenic',\n 'Pathogenic,_risk_factor',\n 'Pathogenic/Likely_pathogenic',\n 'Pathogenic/Likely_pathogenic,_risk_factor',\n 'Uncertain_significance',\n 'association',\n 'drug_response',\n nan,\n 'not_provided',\n 'protective',\n 'risk_factor'}"
     },
     "execution_count": 28,
     "metadata": {},
     "output_type": "execute_result"
    }
   ],
   "source": [
    "set(new_df['CLNSIG'])"
   ],
   "metadata": {
    "collapsed": false,
    "pycharm": {
     "name": "#%%\n"
    }
   }
  },
  {
   "cell_type": "code",
   "execution_count": 29,
   "outputs": [
    {
     "data": {
      "text/plain": "2"
     },
     "execution_count": 29,
     "metadata": {},
     "output_type": "execute_result"
    }
   ],
   "source": [
    "new_df['CLNSIG'].isna().sum()\n"
   ],
   "metadata": {
    "collapsed": false,
    "pycharm": {
     "name": "#%%\n"
    }
   }
  },
  {
   "cell_type": "code",
   "execution_count": 30,
   "outputs": [
    {
     "data": {
      "text/plain": "2636"
     },
     "execution_count": 30,
     "metadata": {},
     "output_type": "execute_result"
    }
   ],
   "source": [
    "new_df.loc[((new_df['CLNSIG'] == 'not_provided') | (new_df['CLNSIG'] == 'Uncertain_significance')), 'CLNSIG'].count()\n",
    "\n"
   ],
   "metadata": {
    "collapsed": false,
    "pycharm": {
     "name": "#%%\n"
    }
   }
  },
  {
   "cell_type": "code",
   "execution_count": 62,
   "outputs": [
    {
     "data": {
      "text/plain": "<Figure size 1080x720 with 2 Axes>",
      "image/png": "[encoded data removed]"
     },
     "metadata": {
      "needs_background": "light"
     },
     "output_type": "display_data"
    },
    {
     "data": {
      "text/plain": "<Figure size 1080x720 with 2 Axes>",
      "image/png": "[encoded data removed]"
     },
     "metadata": {
      "needs_background": "light"
     },
     "output_type": "display_data"
    },
    {
     "data": {
      "text/plain": "<Figure size 1080x720 with 2 Axes>",
      "image/png": "[encoded data removed]"
     },
     "metadata": {
      "needs_background": "light"
     },
     "output_type": "display_data"
    },
    {
     "data": {
      "text/plain": "<Figure size 1080x720 with 2 Axes>",
      "image/png": "[encoded data removed]"
     },
     "metadata": {
      "needs_background": "light"
     },
     "output_type": "display_data"
    },
    {
     "data": {
      "text/plain": "<Figure size 1080x720 with 2 Axes>",
      "image/png": "[encoded data removed]"
     },
     "metadata": {
      "needs_background": "light"
     },
     "output_type": "display_data"
    },
    {
     "data": {
      "text/plain": "<Figure size 1080x720 with 2 Axes>",
      "image/png": "[encoded data removed]"
     },
     "metadata": {
      "needs_background": "light"
     },
     "output_type": "display_data"
    }
   ],
   "source": [
    "from matplotlib import pyplot as plt\n",
    "\n",
    "for column in ['ALT0_case',\t'ALT1_case',\t'ALT2_case'\t,'ALT0_ctrl'\t,'ALT1_ctrl',\t'ALT2_ctrl']:\n",
    "    plt.figure(figsize=(15,10))\n",
    "    plt.subplot(1,2,1)\n",
    "    plt.title(f'{column}, mean: {pdf_case_control[column].mean().round(1)}, median: {pdf_case_control[column].median().round(1)}')\n",
    "    pdf_case_control[column].hist(log=True)\n",
    "    plt.subplot(1,2,2)\n",
    "    plt.title(f'{column}, mean: {merge_on_RS[column].mean().round(1)}, median: {merge_on_RS[column].median().round(1)}')\n",
    "    merge_on_RS[column].hist(log=True)"
   ],
   "metadata": {
    "collapsed": false,
    "pycharm": {
     "name": "#%%\n"
    }
   }
  },
  {
   "cell_type": "code",
   "execution_count": 62,
   "outputs": [],
   "source": [],
   "metadata": {
    "collapsed": false,
    "pycharm": {
     "name": "#%%\n"
    }
   }
  },
  {
   "cell_type": "code",
   "execution_count": null,
   "outputs": [],
   "source": [],
   "metadata": {
    "collapsed": false,
    "pycharm": {
     "name": "#%%\n"
    }
   }
  }
 ],
 "metadata": {
  "kernelspec": {
   "display_name": "Python 3",
   "language": "python",
   "name": "python3"
  },
  "language_info": {
   "codemirror_mode": {
    "name": "ipython",
    "version": 2
   },
   "file_extension": ".py",
   "mimetype": "text/x-python",
   "name": "python",
   "nbconvert_exporter": "python",
   "pygments_lexer": "ipython2",
   "version": "2.7.6"
  }
 },
 "nbformat": 4,
 "nbformat_minor": 0
}