{
 "cells": [
  {
   "cell_type": "code",
   "execution_count": 10,
   "metadata": {
    "collapsed": true
   },
   "outputs": [],
   "source": [
    "from idiva.db.dbSNP import get_dbSNP_df\n",
    "import pandas as pd\n",
    "import os\n",
    "from pathlib import Path\n",
    "from idiva.io import cache_df"
   ]
  },
  {
   "cell_type": "code",
   "execution_count": 11,
   "outputs": [
    {
     "name": "stderr",
     "output_type": "stream",
     "text": [
      "[11:08:03 CET] Creating a potentially large DataFrame for the first time (dbsNP___47DEQpj8HBSa.gz).\n"
     ]
    },
    {
     "name": "stdout",
     "output_type": "stream",
     "text": [
      "19196824\n"
     ]
    },
    {
     "data": {
      "text/plain": "          chrom  pos            id ref alt  qual filter  format  samples   VC  \\\n0  NC_000017.10    9  rs1436154355   C   T   NaN      .     NaN      NaN  SNV   \n1  NC_000017.10   12   rs967120435   C   T   NaN      .     NaN      NaN  SNV   \n2  NC_000017.10   13  rs1177132252   C   T   NaN      .     NaN      NaN  SNV   \n3  NC_000017.10   22  rs1439683794   C   A   NaN      .     NaN      NaN  SNV   \n4  NC_000017.10   23  rs1051458644   A   G   NaN      .     NaN      NaN  SNV   \n\n   ...    NSN    INT    DSS    ASS     U5     U3     R3     R5  CLNORIGIN  \\\n0  ...  False  False  False  False  False  False  False  False        0.0   \n1  ...  False  False  False  False  False  False  False  False        0.0   \n2  ...  False  False  False  False  False  False  False  False        0.0   \n3  ...  False  False  False  False  False  False  False  False        0.0   \n4  ...  False  False  False  False  False  False  False  False        0.0   \n\n   CLNSIG  \n0     1.0  \n1     1.0  \n2     1.0  \n3     1.0  \n4     1.0  \n\n[5 rows x 26 columns]",
      "text/html": "<div>\n<style scoped>\n    .dataframe tbody tr th:only-of-type {\n        vertical-align: middle;\n    }\n\n    .dataframe tbody tr th {\n        vertical-align: top;\n    }\n\n    .dataframe thead th {\n        text-align: right;\n    }\n</style>\n<table border=\"1\" class=\"dataframe\">\n  <thead>\n    <tr style=\"text-align: right;\">\n      <th></th>\n      <th>chrom</th>\n      <th>pos</th>\n      <th>id</th>\n      <th>ref</th>\n      <th>alt</th>\n      <th>qual</th>\n      <th>filter</th>\n      <th>format</th>\n      <th>samples</th>\n      <th>VC</th>\n      <th>...</th>\n      <th>NSN</th>\n      <th>INT</th>\n      <th>DSS</th>\n      <th>ASS</th>\n      <th>U5</th>\n      <th>U3</th>\n      <th>R3</th>\n      <th>R5</th>\n      <th>CLNORIGIN</th>\n      <th>CLNSIG</th>\n    </tr>\n  </thead>\n  <tbody>\n    <tr>\n      <th>0</th>\n      <td>NC_000017.10</td>\n      <td>9</td>\n      <td>rs1436154355</td>\n      <td>C</td>\n      <td>T</td>\n      <td>NaN</td>\n      <td>.</td>\n      <td>NaN</td>\n      <td>NaN</td>\n      <td>SNV</td>\n      <td>...</td>\n      <td>False</td>\n      <td>False</td>\n      <td>False</td>\n      <td>False</td>\n      <td>False</td>\n      <td>False</td>\n      <td>False</td>\n      <td>False</td>\n      <td>0.0</td>\n      <td>1.0</td>\n    </tr>\n    <tr>\n      <th>1</th>\n      <td>NC_000017.10</td>\n      <td>12</td>\n      <td>rs967120435</td>\n      <td>C</td>\n      <td>T</td>\n      <td>NaN</td>\n      <td>.</td>\n      <td>NaN</td>\n      <td>NaN</td>\n      <td>SNV</td>\n      <td>...</td>\n      <td>False</td>\n      <td>False</td>\n      <td>False</td>\n      <td>False</td>\n      <td>False</td>\n      <td>False</td>\n      <td>False</td>\n      <td>False</td>\n      <td>0.0</td>\n      <td>1.0</td>\n    </tr>\n    <tr>\n      <th>2</th>\n      <td>NC_000017.10</td>\n      <td>13</td>\n      <td>rs1177132252</td>\n      <td>C</td>\n      <td>T</td>\n      <td>NaN</td>\n      <td>.</td>\n      <td>NaN</td>\n      <td>NaN</td>\n      <td>SNV</td>\n      <td>...</td>\n      <td>False</td>\n      <td>False</td>\n      <td>False</td>\n      <td>False</td>\n      <td>False</td>\n      <td>False</td>\n      <td>False</td>\n      <td>False</td>\n      <td>0.0</td>\n      <td>1.0</td>\n    </tr>\n    <tr>\n      <th>3</th>\n      <td>NC_000017.10</td>\n      <td>22</td>\n      <td>rs1439683794</td>\n      <td>C</td>\n      <td>A</td>\n      <td>NaN</td>\n      <td>.</td>\n      <td>NaN</td>\n      <td>NaN</td>\n      <td>SNV</td>\n      <td>...</td>\n      <td>False</td>\n      <td>False</td>\n      <td>False</td>\n      <td>False</td>\n      <td>False</td>\n      <td>False</td>\n      <td>False</td>\n      <td>False</td>\n      <td>0.0</td>\n      <td>1.0</td>\n    </tr>\n    <tr>\n      <th>4</th>\n      <td>NC_000017.10</td>\n      <td>23</td>\n      <td>rs1051458644</td>\n      <td>A</td>\n      <td>G</td>\n      <td>NaN</td>\n      <td>.</td>\n      <td>NaN</td>\n      <td>NaN</td>\n      <td>SNV</td>\n      <td>...</td>\n      <td>False</td>\n      <td>False</td>\n      <td>False</td>\n      <td>False</td>\n      <td>False</td>\n      <td>False</td>\n      <td>False</td>\n      <td>False</td>\n      <td>0.0</td>\n      <td>1.0</td>\n    </tr>\n  </tbody>\n</table>\n<p>5 rows × 26 columns</p>\n</div>"
     },
     "metadata": {},
     "output_type": "display_data"
    }
   ],
   "source": [
    "dbSNP_df = get_dbSNP_df()\n",
    "print(len(dbSNP_df))\n",
    "display(dbSNP_df.head())"
   ],
   "metadata": {
    "collapsed": false,
    "pycharm": {
     "name": "#%%\n"
    }
   }
  },
  {
   "cell_type": "code",
   "execution_count": 12,
   "outputs": [
    {
     "name": "stderr",
     "output_type": "stream",
     "text": [
      "/Users/Hendrik/opt/anaconda3/envs/cbm_project1_env/lib/python3.7/site-packages/IPython/core/interactiveshell.py:3338: DtypeWarning: Columns (1,31) have mixed types.Specify dtype option on import or set low_memory=False.\n",
      "  if (await self.run_code(code, result,  async_=asy)):\n"
     ]
    },
    {
     "name": "stdout",
     "output_type": "stream",
     "text": [
      "833155\n"
     ]
    },
    {
     "data": {
      "text/plain": "           chrom     pos      id ref alt  qual filter  format  samples  \\\nUnnamed: 0                                                               \n0              1  899892  916564   C   A   NaN      .     NaN      NaN   \n1              1  949358  967439   C   A   NaN      .     NaN      NaN   \n2              1  949391  942967   G   A   NaN      .     NaN      NaN   \n3              1  949392  661610   C   T   NaN      .     NaN      NaN   \n4              1  949392  661610   C   T   NaN      .     NaN      NaN   \n\n            ALLELEID  ...           RS AF_ESP AF_EXAC AF_TGP CLNVI CLNSIGCONF  \\\nUnnamed: 0            ...                                                       \n0             904889  ...          NaN    NaN     NaN    NaN   NaN        NaN   \n1             960396  ...          NaN    NaN     NaN    NaN   NaN        NaN   \n2             929889  ...          NaN    NaN     NaN    NaN   NaN        NaN   \n3             626468  ...          NaN    NaN     NaN    NaN   NaN        NaN   \n4             626468  ...  rs950572063    NaN     NaN    NaN   NaN        NaN   \n\n           CLNDISDBINCL CLNDNINCL CLNSIGINCL  DBVARID  \nUnnamed: 0                                             \n0                   NaN       NaN        NaN      NaN  \n1                   NaN       NaN        NaN      NaN  \n2                   NaN       NaN        NaN      NaN  \n3                   NaN       NaN        NaN      NaN  \n4                   NaN       NaN        NaN      NaN  \n\n[5 rows x 31 columns]",
      "text/html": "<div>\n<style scoped>\n    .dataframe tbody tr th:only-of-type {\n        vertical-align: middle;\n    }\n\n    .dataframe tbody tr th {\n        vertical-align: top;\n    }\n\n    .dataframe thead th {\n        text-align: right;\n    }\n</style>\n<table border=\"1\" class=\"dataframe\">\n  <thead>\n    <tr style=\"text-align: right;\">\n      <th></th>\n      <th>chrom</th>\n      <th>pos</th>\n      <th>id</th>\n      <th>ref</th>\n      <th>alt</th>\n      <th>qual</th>\n      <th>filter</th>\n      <th>format</th>\n      <th>samples</th>\n      <th>ALLELEID</th>\n      <th>...</th>\n      <th>RS</th>\n      <th>AF_ESP</th>\n      <th>AF_EXAC</th>\n      <th>AF_TGP</th>\n      <th>CLNVI</th>\n      <th>CLNSIGCONF</th>\n      <th>CLNDISDBINCL</th>\n      <th>CLNDNINCL</th>\n      <th>CLNSIGINCL</th>\n      <th>DBVARID</th>\n    </tr>\n    <tr>\n      <th>Unnamed: 0</th>\n      <th></th>\n      <th></th>\n      <th></th>\n      <th></th>\n      <th></th>\n      <th></th>\n      <th></th>\n      <th></th>\n      <th></th>\n      <th></th>\n      <th></th>\n      <th></th>\n      <th></th>\n      <th></th>\n      <th></th>\n      <th></th>\n      <th></th>\n      <th></th>\n      <th></th>\n      <th></th>\n      <th></th>\n    </tr>\n  </thead>\n  <tbody>\n    <tr>\n      <th>0</th>\n      <td>1</td>\n      <td>899892</td>\n      <td>916564</td>\n      <td>C</td>\n      <td>A</td>\n      <td>NaN</td>\n      <td>.</td>\n      <td>NaN</td>\n      <td>NaN</td>\n      <td>904889</td>\n      <td>...</td>\n      <td>NaN</td>\n      <td>NaN</td>\n      <td>NaN</td>\n      <td>NaN</td>\n      <td>NaN</td>\n      <td>NaN</td>\n      <td>NaN</td>\n      <td>NaN</td>\n      <td>NaN</td>\n      <td>NaN</td>\n    </tr>\n    <tr>\n      <th>1</th>\n      <td>1</td>\n      <td>949358</td>\n      <td>967439</td>\n      <td>C</td>\n      <td>A</td>\n      <td>NaN</td>\n      <td>.</td>\n      <td>NaN</td>\n      <td>NaN</td>\n      <td>960396</td>\n      <td>...</td>\n      <td>NaN</td>\n      <td>NaN</td>\n      <td>NaN</td>\n      <td>NaN</td>\n      <td>NaN</td>\n      <td>NaN</td>\n      <td>NaN</td>\n      <td>NaN</td>\n      <td>NaN</td>\n      <td>NaN</td>\n    </tr>\n    <tr>\n      <th>2</th>\n      <td>1</td>\n      <td>949391</td>\n      <td>942967</td>\n      <td>G</td>\n      <td>A</td>\n      <td>NaN</td>\n      <td>.</td>\n      <td>NaN</td>\n      <td>NaN</td>\n      <td>929889</td>\n      <td>...</td>\n      <td>NaN</td>\n      <td>NaN</td>\n      <td>NaN</td>\n      <td>NaN</td>\n      <td>NaN</td>\n      <td>NaN</td>\n      <td>NaN</td>\n      <td>NaN</td>\n      <td>NaN</td>\n      <td>NaN</td>\n    </tr>\n    <tr>\n      <th>3</th>\n      <td>1</td>\n      <td>949392</td>\n      <td>661610</td>\n      <td>C</td>\n      <td>T</td>\n      <td>NaN</td>\n      <td>.</td>\n      <td>NaN</td>\n      <td>NaN</td>\n      <td>626468</td>\n      <td>...</td>\n      <td>NaN</td>\n      <td>NaN</td>\n      <td>NaN</td>\n      <td>NaN</td>\n      <td>NaN</td>\n      <td>NaN</td>\n      <td>NaN</td>\n      <td>NaN</td>\n      <td>NaN</td>\n      <td>NaN</td>\n    </tr>\n    <tr>\n      <th>4</th>\n      <td>1</td>\n      <td>949392</td>\n      <td>661610</td>\n      <td>C</td>\n      <td>T</td>\n      <td>NaN</td>\n      <td>.</td>\n      <td>NaN</td>\n      <td>NaN</td>\n      <td>626468</td>\n      <td>...</td>\n      <td>rs950572063</td>\n      <td>NaN</td>\n      <td>NaN</td>\n      <td>NaN</td>\n      <td>NaN</td>\n      <td>NaN</td>\n      <td>NaN</td>\n      <td>NaN</td>\n      <td>NaN</td>\n      <td>NaN</td>\n    </tr>\n  </tbody>\n</table>\n<p>5 rows × 31 columns</p>\n</div>"
     },
     "metadata": {},
     "output_type": "display_data"
    }
   ],
   "source": [
    "clinvar_file: str = 'vcf_37'\n",
    "def maker_clinvar() -> pd.DataFrame:\n",
    "    from idiva.db import clinvar_open\n",
    "    from idiva.io import ReadVCF\n",
    "    from idiva.db.clinvar import clinvar_to_df\n",
    "\n",
    "    with clinvar_open(which=clinvar_file) as fd:\n",
    "        return clinvar_to_df(ReadVCF(fd))\n",
    "\n",
    "\n",
    "df_clinvar = cache_df(name=(\"clinvar_\" + clinvar_file), key=[clinvar_file], df_maker=maker_clinvar)\n",
    "print(len(df_clinvar))\n",
    "display(df_clinvar.head())"
   ],
   "metadata": {
    "collapsed": false,
    "pycharm": {
     "name": "#%%\n"
    }
   }
  },
  {
   "cell_type": "markdown",
   "source": [
    "### CLNSIG meaning:\n",
    "0 - Uncertain significance, 1 - not provided, 2 - Benign, 3 - Likely benign, 4 - Likely pathogenic, 5 - Pathogenic, 6 - drug response, 8 - confers sensitivity, 9 - risk-factor, 10 - association, 11 - protective, 12 - conflict, 13 - affects, 255 - other"
   ],
   "metadata": {
    "collapsed": false,
    "pycharm": {
     "name": "#%% md\n"
    }
   }
  },
  {
   "cell_type": "code",
   "execution_count": 13,
   "outputs": [
    {
     "data": {
      "text/plain": "<AxesSubplot:>"
     },
     "execution_count": 13,
     "metadata": {},
     "output_type": "execute_result"
    },
    {
     "data": {
      "text/plain": "<Figure size 432x288 with 1 Axes>",
      "image/png": "[encoded data removed]"
     },
     "metadata": {
      "needs_background": "light"
     },
     "output_type": "display_data"
    }
   ],
   "source": [
    "dbSNP_df.loc[dbSNP_df.CLNSIG != 255, 'CLNSIG'].hist(log=True, bins = 50)"
   ],
   "metadata": {
    "collapsed": false,
    "pycharm": {
     "name": "#%%\n"
    }
   }
  },
  {
   "cell_type": "code",
   "execution_count": 14,
   "outputs": [],
   "source": [
    "reduced_dbSNP = dbSNP_df.loc[(dbSNP_df.CLNSIG == 2) | (dbSNP_df.CLNSIG == 5)]"
   ],
   "metadata": {
    "collapsed": false,
    "pycharm": {
     "name": "#%%\n"
    }
   }
  },
  {
   "cell_type": "code",
   "execution_count": 15,
   "outputs": [
    {
     "data": {
      "text/plain": "<AxesSubplot:>"
     },
     "execution_count": 15,
     "metadata": {},
     "output_type": "execute_result"
    },
    {
     "data": {
      "text/plain": "<Figure size 432x288 with 1 Axes>",
      "image/png": "[encoded data removed]"
     },
     "metadata": {
      "needs_background": "light"
     },
     "output_type": "display_data"
    }
   ],
   "source": [
    "reduced_dbSNP['CLNSIG'].hist(log=True)"
   ],
   "metadata": {
    "collapsed": false,
    "pycharm": {
     "name": "#%%\n"
    }
   }
  },
  {
   "cell_type": "code",
   "execution_count": 16,
   "outputs": [
    {
     "data": {
      "text/plain": "              chrom     pos          id ref alt  qual filter  format  samples  \\\n93869  NC_000017.10  423051   rs2034088   T   A   NaN      .     NaN      NaN   \n93870  NC_000017.10  423051   rs2034088   T   C   NaN      .     NaN      NaN   \n94301  NC_000017.10  424880  rs16953156   G   A   NaN      .     NaN      NaN   \n94302  NC_000017.10  424880  rs16953156   G   T   NaN      .     NaN      NaN   \n94327  NC_000017.10  424934  rs59240016   G   C   NaN      .     NaN      NaN   \n\n        VC  ...    NSN    INT    DSS    ASS     U5     U3    R3     R5  \\\n93869  SNV  ...  False   True  False  False  False  False  True  False   \n93870  SNV  ...  False   True  False  False  False  False  True  False   \n94301  SNV  ...  False  False  False  False  False  False  True  False   \n94302  SNV  ...  False  False  False  False  False  False  True  False   \n94327  SNV  ...  False  False  False  False  False  False  True  False   \n\n       CLNORIGIN  CLNSIG  \n93869        1.0     2.0  \n93870        1.0     2.0  \n94301        1.0     2.0  \n94302        1.0     2.0  \n94327        1.0     2.0  \n\n[5 rows x 26 columns]",
      "text/html": "<div>\n<style scoped>\n    .dataframe tbody tr th:only-of-type {\n        vertical-align: middle;\n    }\n\n    .dataframe tbody tr th {\n        vertical-align: top;\n    }\n\n    .dataframe thead th {\n        text-align: right;\n    }\n</style>\n<table border=\"1\" class=\"dataframe\">\n  <thead>\n    <tr style=\"text-align: right;\">\n      <th></th>\n      <th>chrom</th>\n      <th>pos</th>\n      <th>id</th>\n      <th>ref</th>\n      <th>alt</th>\n      <th>qual</th>\n      <th>filter</th>\n      <th>format</th>\n      <th>samples</th>\n      <th>VC</th>\n      <th>...</th>\n      <th>NSN</th>\n      <th>INT</th>\n      <th>DSS</th>\n      <th>ASS</th>\n      <th>U5</th>\n      <th>U3</th>\n      <th>R3</th>\n      <th>R5</th>\n      <th>CLNORIGIN</th>\n      <th>CLNSIG</th>\n    </tr>\n  </thead>\n  <tbody>\n    <tr>\n      <th>93869</th>\n      <td>NC_000017.10</td>\n      <td>423051</td>\n      <td>rs2034088</td>\n      <td>T</td>\n      <td>A</td>\n      <td>NaN</td>\n      <td>.</td>\n      <td>NaN</td>\n      <td>NaN</td>\n      <td>SNV</td>\n      <td>...</td>\n      <td>False</td>\n      <td>True</td>\n      <td>False</td>\n      <td>False</td>\n      <td>False</td>\n      <td>False</td>\n      <td>True</td>\n      <td>False</td>\n      <td>1.0</td>\n      <td>2.0</td>\n    </tr>\n    <tr>\n      <th>93870</th>\n      <td>NC_000017.10</td>\n      <td>423051</td>\n      <td>rs2034088</td>\n      <td>T</td>\n      <td>C</td>\n      <td>NaN</td>\n      <td>.</td>\n      <td>NaN</td>\n      <td>NaN</td>\n      <td>SNV</td>\n      <td>...</td>\n      <td>False</td>\n      <td>True</td>\n      <td>False</td>\n      <td>False</td>\n      <td>False</td>\n      <td>False</td>\n      <td>True</td>\n      <td>False</td>\n      <td>1.0</td>\n      <td>2.0</td>\n    </tr>\n    <tr>\n      <th>94301</th>\n      <td>NC_000017.10</td>\n      <td>424880</td>\n      <td>rs16953156</td>\n      <td>G</td>\n      <td>A</td>\n      <td>NaN</td>\n      <td>.</td>\n      <td>NaN</td>\n      <td>NaN</td>\n      <td>SNV</td>\n      <td>...</td>\n      <td>False</td>\n      <td>False</td>\n      <td>False</td>\n      <td>False</td>\n      <td>False</td>\n      <td>False</td>\n      <td>True</td>\n      <td>False</td>\n      <td>1.0</td>\n      <td>2.0</td>\n    </tr>\n    <tr>\n      <th>94302</th>\n      <td>NC_000017.10</td>\n      <td>424880</td>\n      <td>rs16953156</td>\n      <td>G</td>\n      <td>T</td>\n      <td>NaN</td>\n      <td>.</td>\n      <td>NaN</td>\n      <td>NaN</td>\n      <td>SNV</td>\n      <td>...</td>\n      <td>False</td>\n      <td>False</td>\n      <td>False</td>\n      <td>False</td>\n      <td>False</td>\n      <td>False</td>\n      <td>True</td>\n      <td>False</td>\n      <td>1.0</td>\n      <td>2.0</td>\n    </tr>\n    <tr>\n      <th>94327</th>\n      <td>NC_000017.10</td>\n      <td>424934</td>\n      <td>rs59240016</td>\n      <td>G</td>\n      <td>C</td>\n      <td>NaN</td>\n      <td>.</td>\n      <td>NaN</td>\n      <td>NaN</td>\n      <td>SNV</td>\n      <td>...</td>\n      <td>False</td>\n      <td>False</td>\n      <td>False</td>\n      <td>False</td>\n      <td>False</td>\n      <td>False</td>\n      <td>True</td>\n      <td>False</td>\n      <td>1.0</td>\n      <td>2.0</td>\n    </tr>\n  </tbody>\n</table>\n<p>5 rows × 26 columns</p>\n</div>"
     },
     "metadata": {},
     "output_type": "display_data"
    },
    {
     "name": "stdout",
     "output_type": "stream",
     "text": [
      "10473\n"
     ]
    }
   ],
   "source": [
    "display(reduced_dbSNP.head())\n",
    "print(reduced_dbSNP['CLNSIG'].count())"
   ],
   "metadata": {
    "collapsed": false,
    "pycharm": {
     "name": "#%%\n"
    }
   }
  },
  {
   "cell_type": "code",
   "execution_count": 17,
   "outputs": [
    {
     "data": {
      "text/plain": "<AxesSubplot:>"
     },
     "execution_count": 17,
     "metadata": {},
     "output_type": "execute_result"
    },
    {
     "data": {
      "text/plain": "<Figure size 432x288 with 1 Axes>",
      "image/png": "[encoded data removed]"
     },
     "metadata": {
      "needs_background": "light"
     },
     "output_type": "display_data"
    }
   ],
   "source": [
    "df_clinvar['CLNSIG'].hist()"
   ],
   "metadata": {
    "collapsed": false,
    "pycharm": {
     "name": "#%%\n"
    }
   }
  },
  {
   "cell_type": "code",
   "execution_count": 18,
   "outputs": [
    {
     "name": "stdout",
     "output_type": "stream",
     "text": [
      "153803\n"
     ]
    }
   ],
   "source": [
    "df_clinvar_reduced = df_clinvar[df_clinvar['CLNSIG'].isin({'Pathogenic', 'Benign'})]\n",
    "print(df_clinvar_reduced['CLNSIG'].count())"
   ],
   "metadata": {
    "collapsed": false,
    "pycharm": {
     "name": "#%%\n"
    }
   }
  },
  {
   "cell_type": "markdown",
   "source": [
    "# Creating a dataframe from which the label can be retrieved via pos,ref,alt\n",
    "### Benign has label 0 and Pathogenic has label 1"
   ],
   "metadata": {
    "collapsed": false,
    "pycharm": {
     "name": "#%% md\n"
    }
   }
  },
  {
   "cell_type": "code",
   "execution_count": 29,
   "outputs": [],
   "source": [
    "merge_on_pos_ref_alt = df_clinvar_reduced[['pos', 'ref','alt', 'CLNSIG']].replace({'Pathogenic': 1, 'Benign':0}).merge(reduced_dbSNP[['pos', 'ref','alt', 'CLNSIG']].replace({'CLNSIG':{2:0,5:1}}), left_on=['pos','ref', 'alt'], right_on=['pos', 'ref','alt'], how='outer',suffixes=('_clinvar', '_dbSNP'))"
   ],
   "metadata": {
    "collapsed": false,
    "pycharm": {
     "name": "#%%\n"
    }
   }
  },
  {
   "cell_type": "markdown",
   "source": [
    "### The dbSNP does bring some additional information to the clinvar file"
   ],
   "metadata": {
    "collapsed": false,
    "pycharm": {
     "name": "#%% md\n"
    }
   }
  },
  {
   "cell_type": "code",
   "execution_count": 31,
   "outputs": [
    {
     "data": {
      "text/plain": "             pos ref alt  CLNSIG_clinvar  CLNSIG_dbSNP\n153803    423051   T   A             NaN           0.0\n153804    423051   T   C             NaN           0.0\n153805    424880   G   A             NaN           0.0\n153806    424880   G   T             NaN           0.0\n153807    424934   G   C             NaN           0.0\n...          ...  ..  ..             ...           ...\n160652  81042874   G   A             NaN           0.0\n160653  81043068   A   G             NaN           0.0\n160654  81052029   C   A             NaN           0.0\n160655  81052029   C   T             NaN           0.0\n160656  81052130   A   G             NaN           0.0\n\n[6854 rows x 5 columns]",
      "text/html": "<div>\n<style scoped>\n    .dataframe tbody tr th:only-of-type {\n        vertical-align: middle;\n    }\n\n    .dataframe tbody tr th {\n        vertical-align: top;\n    }\n\n    .dataframe thead th {\n        text-align: right;\n    }\n</style>\n<table border=\"1\" class=\"dataframe\">\n  <thead>\n    <tr style=\"text-align: right;\">\n      <th></th>\n      <th>pos</th>\n      <th>ref</th>\n      <th>alt</th>\n      <th>CLNSIG_clinvar</th>\n      <th>CLNSIG_dbSNP</th>\n    </tr>\n  </thead>\n  <tbody>\n    <tr>\n      <th>153803</th>\n      <td>423051</td>\n      <td>T</td>\n      <td>A</td>\n      <td>NaN</td>\n      <td>0.0</td>\n    </tr>\n    <tr>\n      <th>153804</th>\n      <td>423051</td>\n      <td>T</td>\n      <td>C</td>\n      <td>NaN</td>\n      <td>0.0</td>\n    </tr>\n    <tr>\n      <th>153805</th>\n      <td>424880</td>\n      <td>G</td>\n      <td>A</td>\n      <td>NaN</td>\n      <td>0.0</td>\n    </tr>\n    <tr>\n      <th>153806</th>\n      <td>424880</td>\n      <td>G</td>\n      <td>T</td>\n      <td>NaN</td>\n      <td>0.0</td>\n    </tr>\n    <tr>\n      <th>153807</th>\n      <td>424934</td>\n      <td>G</td>\n      <td>C</td>\n      <td>NaN</td>\n      <td>0.0</td>\n    </tr>\n    <tr>\n      <th>...</th>\n      <td>...</td>\n      <td>...</td>\n      <td>...</td>\n      <td>...</td>\n      <td>...</td>\n    </tr>\n    <tr>\n      <th>160652</th>\n      <td>81042874</td>\n      <td>G</td>\n      <td>A</td>\n      <td>NaN</td>\n      <td>0.0</td>\n    </tr>\n    <tr>\n      <th>160653</th>\n      <td>81043068</td>\n      <td>A</td>\n      <td>G</td>\n      <td>NaN</td>\n      <td>0.0</td>\n    </tr>\n    <tr>\n      <th>160654</th>\n      <td>81052029</td>\n      <td>C</td>\n      <td>A</td>\n      <td>NaN</td>\n      <td>0.0</td>\n    </tr>\n    <tr>\n      <th>160655</th>\n      <td>81052029</td>\n      <td>C</td>\n      <td>T</td>\n      <td>NaN</td>\n      <td>0.0</td>\n    </tr>\n    <tr>\n      <th>160656</th>\n      <td>81052130</td>\n      <td>A</td>\n      <td>G</td>\n      <td>NaN</td>\n      <td>0.0</td>\n    </tr>\n  </tbody>\n</table>\n<p>6854 rows × 5 columns</p>\n</div>"
     },
     "execution_count": 31,
     "metadata": {},
     "output_type": "execute_result"
    }
   ],
   "source": [
    "merge_on_pos_ref_alt.loc[merge_on_pos_ref_alt['CLNSIG_clinvar'].isna()]"
   ],
   "metadata": {
    "collapsed": false,
    "pycharm": {
     "name": "#%%\n"
    }
   }
  },
  {
   "cell_type": "code",
   "execution_count": 30,
   "outputs": [
    {
     "data": {
      "text/plain": "      pos ref alt  CLNSIG_clinvar  CLNSIG_dbSNP\n0  949422   G   A             0.0           NaN\n1  949422   G   A             0.0           NaN\n2  949438   A   G             0.0           NaN\n3  949438   A   G             0.0           NaN\n4  949523   C   T             1.0           NaN",
      "text/html": "<div>\n<style scoped>\n    .dataframe tbody tr th:only-of-type {\n        vertical-align: middle;\n    }\n\n    .dataframe tbody tr th {\n        vertical-align: top;\n    }\n\n    .dataframe thead th {\n        text-align: right;\n    }\n</style>\n<table border=\"1\" class=\"dataframe\">\n  <thead>\n    <tr style=\"text-align: right;\">\n      <th></th>\n      <th>pos</th>\n      <th>ref</th>\n      <th>alt</th>\n      <th>CLNSIG_clinvar</th>\n      <th>CLNSIG_dbSNP</th>\n    </tr>\n  </thead>\n  <tbody>\n    <tr>\n      <th>0</th>\n      <td>949422</td>\n      <td>G</td>\n      <td>A</td>\n      <td>0.0</td>\n      <td>NaN</td>\n    </tr>\n    <tr>\n      <th>1</th>\n      <td>949422</td>\n      <td>G</td>\n      <td>A</td>\n      <td>0.0</td>\n      <td>NaN</td>\n    </tr>\n    <tr>\n      <th>2</th>\n      <td>949438</td>\n      <td>A</td>\n      <td>G</td>\n      <td>0.0</td>\n      <td>NaN</td>\n    </tr>\n    <tr>\n      <th>3</th>\n      <td>949438</td>\n      <td>A</td>\n      <td>G</td>\n      <td>0.0</td>\n      <td>NaN</td>\n    </tr>\n    <tr>\n      <th>4</th>\n      <td>949523</td>\n      <td>C</td>\n      <td>T</td>\n      <td>1.0</td>\n      <td>NaN</td>\n    </tr>\n  </tbody>\n</table>\n</div>"
     },
     "execution_count": 30,
     "metadata": {},
     "output_type": "execute_result"
    }
   ],
   "source": [
    "merge_on_pos_ref_alt.head()\n"
   ],
   "metadata": {
    "collapsed": false,
    "pycharm": {
     "name": "#%%\n"
    }
   }
  },
  {
   "cell_type": "code",
   "execution_count": null,
   "outputs": [],
   "source": [],
   "metadata": {
    "collapsed": false,
    "pycharm": {
     "name": "#%%\n"
    }
   }
  }
 ],
 "metadata": {
  "kernelspec": {
   "display_name": "Python 3",
   "language": "python",
   "name": "python3"
  },
  "language_info": {
   "codemirror_mode": {
    "name": "ipython",
    "version": 2
   },
   "file_extension": ".py",
   "mimetype": "text/x-python",
   "name": "python",
   "nbconvert_exporter": "python",
   "pygments_lexer": "ipython2",
   "version": "2.7.6"
  }
 },
 "nbformat": 4,
 "nbformat_minor": 0
}