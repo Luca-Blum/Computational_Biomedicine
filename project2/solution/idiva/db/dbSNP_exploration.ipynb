{
 "cells": [
  {
   "cell_type": "code",
   "execution_count": 2,
   "metadata": {
    "collapsed": true
   },
   "outputs": [],
   "source": [
    "from idiva.db.dbSNP import get_dbSNP_df\n",
    "import pandas as pd\n",
    "import os\n",
    "from pathlib import Path\n",
    "from idiva.io import cache_df"
   ]
  },
  {
   "cell_type": "code",
   "execution_count": 2,
   "outputs": [
    {
     "name": "stderr",
     "output_type": "stream",
     "text": [
      "[20:44:39 CET] Downloading dbSNP excerpt.\n",
      "[20:44:39 CET] Reading dbSNP excerpt.\n"
     ]
    },
    {
     "name": "stdout",
     "output_type": "stream",
     "text": [
      "17454336\n"
     ]
    },
    {
     "data": {
      "text/plain": "          chrom  pos            id ref  alt  qual filter  format  samples  \\\n0  NC_000017.10    9  rs1436154355   C    T   NaN      .     NaN      NaN   \n1  NC_000017.10   12   rs967120435   C    T   NaN      .     NaN      NaN   \n2  NC_000017.10   13  rs1177132252   C    T   NaN      .     NaN      NaN   \n3  NC_000017.10   22  rs1439683794   C    A   NaN      .     NaN      NaN   \n4  NC_000017.10   23  rs1051458644   A  G,T   NaN      .     NaN      NaN   \n\n    VC  ...    NSN    INT    DSS    ASS     U5     U3     R3     R5  \\\n0  SNV  ...  False  False  False  False  False  False  False  False   \n1  SNV  ...  False  False  False  False  False  False  False  False   \n2  SNV  ...  False  False  False  False  False  False  False  False   \n3  SNV  ...  False  False  False  False  False  False  False  False   \n4  SNV  ...  False  False  False  False  False  False  False  False   \n\n   CLNORIGIN  CLNSIG  \n0        NaN     1.0  \n1        NaN     1.0  \n2        NaN     1.0  \n3        NaN     1.0  \n4        NaN     1.0  \n\n[5 rows x 26 columns]",
      "text/html": "<div>\n<style scoped>\n    .dataframe tbody tr th:only-of-type {\n        vertical-align: middle;\n    }\n\n    .dataframe tbody tr th {\n        vertical-align: top;\n    }\n\n    .dataframe thead th {\n        text-align: right;\n    }\n</style>\n<table border=\"1\" class=\"dataframe\">\n  <thead>\n    <tr style=\"text-align: right;\">\n      <th></th>\n      <th>chrom</th>\n      <th>pos</th>\n      <th>id</th>\n      <th>ref</th>\n      <th>alt</th>\n      <th>qual</th>\n      <th>filter</th>\n      <th>format</th>\n      <th>samples</th>\n      <th>VC</th>\n      <th>...</th>\n      <th>NSN</th>\n      <th>INT</th>\n      <th>DSS</th>\n      <th>ASS</th>\n      <th>U5</th>\n      <th>U3</th>\n      <th>R3</th>\n      <th>R5</th>\n      <th>CLNORIGIN</th>\n      <th>CLNSIG</th>\n    </tr>\n  </thead>\n  <tbody>\n    <tr>\n      <th>0</th>\n      <td>NC_000017.10</td>\n      <td>9</td>\n      <td>rs1436154355</td>\n      <td>C</td>\n      <td>T</td>\n      <td>NaN</td>\n      <td>.</td>\n      <td>NaN</td>\n      <td>NaN</td>\n      <td>SNV</td>\n      <td>...</td>\n      <td>False</td>\n      <td>False</td>\n      <td>False</td>\n      <td>False</td>\n      <td>False</td>\n      <td>False</td>\n      <td>False</td>\n      <td>False</td>\n      <td>NaN</td>\n      <td>1.0</td>\n    </tr>\n    <tr>\n      <th>1</th>\n      <td>NC_000017.10</td>\n      <td>12</td>\n      <td>rs967120435</td>\n      <td>C</td>\n      <td>T</td>\n      <td>NaN</td>\n      <td>.</td>\n      <td>NaN</td>\n      <td>NaN</td>\n      <td>SNV</td>\n      <td>...</td>\n      <td>False</td>\n      <td>False</td>\n      <td>False</td>\n      <td>False</td>\n      <td>False</td>\n      <td>False</td>\n      <td>False</td>\n      <td>False</td>\n      <td>NaN</td>\n      <td>1.0</td>\n    </tr>\n    <tr>\n      <th>2</th>\n      <td>NC_000017.10</td>\n      <td>13</td>\n      <td>rs1177132252</td>\n      <td>C</td>\n      <td>T</td>\n      <td>NaN</td>\n      <td>.</td>\n      <td>NaN</td>\n      <td>NaN</td>\n      <td>SNV</td>\n      <td>...</td>\n      <td>False</td>\n      <td>False</td>\n      <td>False</td>\n      <td>False</td>\n      <td>False</td>\n      <td>False</td>\n      <td>False</td>\n      <td>False</td>\n      <td>NaN</td>\n      <td>1.0</td>\n    </tr>\n    <tr>\n      <th>3</th>\n      <td>NC_000017.10</td>\n      <td>22</td>\n      <td>rs1439683794</td>\n      <td>C</td>\n      <td>A</td>\n      <td>NaN</td>\n      <td>.</td>\n      <td>NaN</td>\n      <td>NaN</td>\n      <td>SNV</td>\n      <td>...</td>\n      <td>False</td>\n      <td>False</td>\n      <td>False</td>\n      <td>False</td>\n      <td>False</td>\n      <td>False</td>\n      <td>False</td>\n      <td>False</td>\n      <td>NaN</td>\n      <td>1.0</td>\n    </tr>\n    <tr>\n      <th>4</th>\n      <td>NC_000017.10</td>\n      <td>23</td>\n      <td>rs1051458644</td>\n      <td>A</td>\n      <td>G,T</td>\n      <td>NaN</td>\n      <td>.</td>\n      <td>NaN</td>\n      <td>NaN</td>\n      <td>SNV</td>\n      <td>...</td>\n      <td>False</td>\n      <td>False</td>\n      <td>False</td>\n      <td>False</td>\n      <td>False</td>\n      <td>False</td>\n      <td>False</td>\n      <td>False</td>\n      <td>NaN</td>\n      <td>1.0</td>\n    </tr>\n  </tbody>\n</table>\n<p>5 rows × 26 columns</p>\n</div>"
     },
     "metadata": {},
     "output_type": "display_data"
    }
   ],
   "source": [
    "dbSNP_df = get_dbSNP_df()\n",
    "print(len(dbSNP_df))\n",
    "display(dbSNP_df.head())"
   ],
   "metadata": {
    "collapsed": false,
    "pycharm": {
     "name": "#%%\n"
    }
   }
  },
  {
   "cell_type": "code",
   "execution_count": 3,
   "outputs": [
    {
     "name": "stderr",
     "output_type": "stream",
     "text": [
      "/Users/Hendrik/opt/anaconda3/envs/cbm_project1_env/lib/python3.7/site-packages/IPython/core/interactiveshell.py:3338: DtypeWarning: Columns (1,31) have mixed types.Specify dtype option on import or set low_memory=False.\n",
      "  if (await self.run_code(code, result,  async_=asy)):\n"
     ]
    },
    {
     "name": "stdout",
     "output_type": "stream",
     "text": [
      "833155\n"
     ]
    },
    {
     "data": {
      "text/plain": "           chrom     pos      id ref alt  qual filter  format  samples  \\\nUnnamed: 0                                                               \n0              1  899892  916564   C   A   NaN      .     NaN      NaN   \n1              1  949358  967439   C   A   NaN      .     NaN      NaN   \n2              1  949391  942967   G   A   NaN      .     NaN      NaN   \n3              1  949392  661610   C   T   NaN      .     NaN      NaN   \n4              1  949392  661610   C   T   NaN      .     NaN      NaN   \n\n            ALLELEID  ...           RS AF_ESP AF_EXAC AF_TGP CLNVI CLNSIGCONF  \\\nUnnamed: 0            ...                                                       \n0             904889  ...          NaN    NaN     NaN    NaN   NaN        NaN   \n1             960396  ...          NaN    NaN     NaN    NaN   NaN        NaN   \n2             929889  ...          NaN    NaN     NaN    NaN   NaN        NaN   \n3             626468  ...          NaN    NaN     NaN    NaN   NaN        NaN   \n4             626468  ...  rs950572063    NaN     NaN    NaN   NaN        NaN   \n\n           CLNDISDBINCL CLNDNINCL CLNSIGINCL  DBVARID  \nUnnamed: 0                                             \n0                   NaN       NaN        NaN      NaN  \n1                   NaN       NaN        NaN      NaN  \n2                   NaN       NaN        NaN      NaN  \n3                   NaN       NaN        NaN      NaN  \n4                   NaN       NaN        NaN      NaN  \n\n[5 rows x 31 columns]",
      "text/html": "<div>\n<style scoped>\n    .dataframe tbody tr th:only-of-type {\n        vertical-align: middle;\n    }\n\n    .dataframe tbody tr th {\n        vertical-align: top;\n    }\n\n    .dataframe thead th {\n        text-align: right;\n    }\n</style>\n<table border=\"1\" class=\"dataframe\">\n  <thead>\n    <tr style=\"text-align: right;\">\n      <th></th>\n      <th>chrom</th>\n      <th>pos</th>\n      <th>id</th>\n      <th>ref</th>\n      <th>alt</th>\n      <th>qual</th>\n      <th>filter</th>\n      <th>format</th>\n      <th>samples</th>\n      <th>ALLELEID</th>\n      <th>...</th>\n      <th>RS</th>\n      <th>AF_ESP</th>\n      <th>AF_EXAC</th>\n      <th>AF_TGP</th>\n      <th>CLNVI</th>\n      <th>CLNSIGCONF</th>\n      <th>CLNDISDBINCL</th>\n      <th>CLNDNINCL</th>\n      <th>CLNSIGINCL</th>\n      <th>DBVARID</th>\n    </tr>\n    <tr>\n      <th>Unnamed: 0</th>\n      <th></th>\n      <th></th>\n      <th></th>\n      <th></th>\n      <th></th>\n      <th></th>\n      <th></th>\n      <th></th>\n      <th></th>\n      <th></th>\n      <th></th>\n      <th></th>\n      <th></th>\n      <th></th>\n      <th></th>\n      <th></th>\n      <th></th>\n      <th></th>\n      <th></th>\n      <th></th>\n      <th></th>\n    </tr>\n  </thead>\n  <tbody>\n    <tr>\n      <th>0</th>\n      <td>1</td>\n      <td>899892</td>\n      <td>916564</td>\n      <td>C</td>\n      <td>A</td>\n      <td>NaN</td>\n      <td>.</td>\n      <td>NaN</td>\n      <td>NaN</td>\n      <td>904889</td>\n      <td>...</td>\n      <td>NaN</td>\n      <td>NaN</td>\n      <td>NaN</td>\n      <td>NaN</td>\n      <td>NaN</td>\n      <td>NaN</td>\n      <td>NaN</td>\n      <td>NaN</td>\n      <td>NaN</td>\n      <td>NaN</td>\n    </tr>\n    <tr>\n      <th>1</th>\n      <td>1</td>\n      <td>949358</td>\n      <td>967439</td>\n      <td>C</td>\n      <td>A</td>\n      <td>NaN</td>\n      <td>.</td>\n      <td>NaN</td>\n      <td>NaN</td>\n      <td>960396</td>\n      <td>...</td>\n      <td>NaN</td>\n      <td>NaN</td>\n      <td>NaN</td>\n      <td>NaN</td>\n      <td>NaN</td>\n      <td>NaN</td>\n      <td>NaN</td>\n      <td>NaN</td>\n      <td>NaN</td>\n      <td>NaN</td>\n    </tr>\n    <tr>\n      <th>2</th>\n      <td>1</td>\n      <td>949391</td>\n      <td>942967</td>\n      <td>G</td>\n      <td>A</td>\n      <td>NaN</td>\n      <td>.</td>\n      <td>NaN</td>\n      <td>NaN</td>\n      <td>929889</td>\n      <td>...</td>\n      <td>NaN</td>\n      <td>NaN</td>\n      <td>NaN</td>\n      <td>NaN</td>\n      <td>NaN</td>\n      <td>NaN</td>\n      <td>NaN</td>\n      <td>NaN</td>\n      <td>NaN</td>\n      <td>NaN</td>\n    </tr>\n    <tr>\n      <th>3</th>\n      <td>1</td>\n      <td>949392</td>\n      <td>661610</td>\n      <td>C</td>\n      <td>T</td>\n      <td>NaN</td>\n      <td>.</td>\n      <td>NaN</td>\n      <td>NaN</td>\n      <td>626468</td>\n      <td>...</td>\n      <td>NaN</td>\n      <td>NaN</td>\n      <td>NaN</td>\n      <td>NaN</td>\n      <td>NaN</td>\n      <td>NaN</td>\n      <td>NaN</td>\n      <td>NaN</td>\n      <td>NaN</td>\n      <td>NaN</td>\n    </tr>\n    <tr>\n      <th>4</th>\n      <td>1</td>\n      <td>949392</td>\n      <td>661610</td>\n      <td>C</td>\n      <td>T</td>\n      <td>NaN</td>\n      <td>.</td>\n      <td>NaN</td>\n      <td>NaN</td>\n      <td>626468</td>\n      <td>...</td>\n      <td>rs950572063</td>\n      <td>NaN</td>\n      <td>NaN</td>\n      <td>NaN</td>\n      <td>NaN</td>\n      <td>NaN</td>\n      <td>NaN</td>\n      <td>NaN</td>\n      <td>NaN</td>\n      <td>NaN</td>\n    </tr>\n  </tbody>\n</table>\n<p>5 rows × 31 columns</p>\n</div>"
     },
     "metadata": {},
     "output_type": "display_data"
    }
   ],
   "source": [
    "clinvar_file: str = 'vcf_37'\n",
    "def maker_clinvar() -> pd.DataFrame:\n",
    "    from idiva.db import clinvar_open\n",
    "    from idiva.io import ReadVCF\n",
    "    from idiva.db.clinvar import clinvar_to_df\n",
    "\n",
    "    with clinvar_open(which=clinvar_file) as fd:\n",
    "        return clinvar_to_df(ReadVCF(fd))\n",
    "\n",
    "\n",
    "df_clinvar = cache_df(name=(\"clinvar_\" + clinvar_file), key=[clinvar_file], df_maker=maker_clinvar)\n",
    "print(len(df_clinvar))\n",
    "display(df_clinvar.head())"
   ],
   "metadata": {
    "collapsed": false,
    "pycharm": {
     "name": "#%%\n"
    }
   }
  },
  {
   "cell_type": "markdown",
   "source": [
    "### CLNSIG meaning:\n",
    "0 - Uncertain significance, 1 - not provided, 2 - Benign, 3 - Likely benign, 4 - Likely pathogenic, 5 - Pathogenic, 6 - drug response, 8 - confers sensitivity, 9 - risk-factor, 10 - association, 11 - protective, 12 - conflict, 13 - affects, 255 - other"
   ],
   "metadata": {
    "collapsed": false,
    "pycharm": {
     "name": "#%% md\n"
    }
   }
  },
  {
   "cell_type": "code",
   "execution_count": 4,
   "outputs": [
    {
     "data": {
      "text/plain": "<AxesSubplot:>"
     },
     "execution_count": 4,
     "metadata": {},
     "output_type": "execute_result"
    },
    {
     "data": {
      "text/plain": "<Figure size 432x288 with 1 Axes>",
      "image/png": "[encoded data removed]"
     },
     "metadata": {
      "needs_background": "light"
     },
     "output_type": "display_data"
    }
   ],
   "source": [
    "dbSNP_df.loc[dbSNP_df.CLNSIG != 255, 'CLNSIG'].hist(log=True, bins = 50)"
   ],
   "metadata": {
    "collapsed": false,
    "pycharm": {
     "name": "#%%\n"
    }
   }
  },
  {
   "cell_type": "code",
   "execution_count": 5,
   "outputs": [],
   "source": [
    "reduced_dbSNP = dbSNP_df.loc[(dbSNP_df.CLNSIG == 2) | (dbSNP_df.CLNSIG == 5)]"
   ],
   "metadata": {
    "collapsed": false,
    "pycharm": {
     "name": "#%%\n"
    }
   }
  },
  {
   "cell_type": "code",
   "execution_count": 6,
   "outputs": [
    {
     "data": {
      "text/plain": "<AxesSubplot:>"
     },
     "execution_count": 6,
     "metadata": {},
     "output_type": "execute_result"
    },
    {
     "data": {
      "text/plain": "<Figure size 432x288 with 1 Axes>",
      "image/png": "[encoded data removed]"
     },
     "metadata": {
      "needs_background": "light"
     },
     "output_type": "display_data"
    }
   ],
   "source": [
    "reduced_dbSNP['CLNSIG'].hist(log=True)"
   ],
   "metadata": {
    "collapsed": false,
    "pycharm": {
     "name": "#%%\n"
    }
   }
  },
  {
   "cell_type": "code",
   "execution_count": 7,
   "outputs": [
    {
     "data": {
      "text/plain": "              chrom     pos           id ref  alt  qual filter  format  \\\n82961  NC_000017.10  423051    rs2034088   T  A,C   NaN      .     NaN   \n83354  NC_000017.10  424880   rs16953156   G  A,T   NaN      .     NaN   \n83377  NC_000017.10  424934   rs59240016   G    C   NaN      .     NaN   \n85759  NC_000017.10  435896   rs11650424   C    T   NaN      .     NaN   \n85807  NC_000017.10  436083  rs587777465   T    C   NaN      .     NaN   \n\n       samples   VC  ...    NSN    INT    DSS    ASS     U5     U3     R3  \\\n82961      NaN  SNV  ...  False   True  False  False  False  False   True   \n83354      NaN  SNV  ...  False  False  False  False  False  False   True   \n83377      NaN  SNV  ...  False  False  False  False  False  False   True   \n85759      NaN  SNV  ...  False   True  False  False  False   True   True   \n85807      NaN  SNV  ...  False  False  False  False  False  False  False   \n\n          R5  CLNORIGIN  CLNSIG  \n82961  False        1.0     2.0  \n83354  False        1.0     2.0  \n83377  False        1.0     2.0  \n85759  False        1.0     2.0  \n85807  False        1.0     5.0  \n\n[5 rows x 26 columns]",
      "text/html": "<div>\n<style scoped>\n    .dataframe tbody tr th:only-of-type {\n        vertical-align: middle;\n    }\n\n    .dataframe tbody tr th {\n        vertical-align: top;\n    }\n\n    .dataframe thead th {\n        text-align: right;\n    }\n</style>\n<table border=\"1\" class=\"dataframe\">\n  <thead>\n    <tr style=\"text-align: right;\">\n      <th></th>\n      <th>chrom</th>\n      <th>pos</th>\n      <th>id</th>\n      <th>ref</th>\n      <th>alt</th>\n      <th>qual</th>\n      <th>filter</th>\n      <th>format</th>\n      <th>samples</th>\n      <th>VC</th>\n      <th>...</th>\n      <th>NSN</th>\n      <th>INT</th>\n      <th>DSS</th>\n      <th>ASS</th>\n      <th>U5</th>\n      <th>U3</th>\n      <th>R3</th>\n      <th>R5</th>\n      <th>CLNORIGIN</th>\n      <th>CLNSIG</th>\n    </tr>\n  </thead>\n  <tbody>\n    <tr>\n      <th>82961</th>\n      <td>NC_000017.10</td>\n      <td>423051</td>\n      <td>rs2034088</td>\n      <td>T</td>\n      <td>A,C</td>\n      <td>NaN</td>\n      <td>.</td>\n      <td>NaN</td>\n      <td>NaN</td>\n      <td>SNV</td>\n      <td>...</td>\n      <td>False</td>\n      <td>True</td>\n      <td>False</td>\n      <td>False</td>\n      <td>False</td>\n      <td>False</td>\n      <td>True</td>\n      <td>False</td>\n      <td>1.0</td>\n      <td>2.0</td>\n    </tr>\n    <tr>\n      <th>83354</th>\n      <td>NC_000017.10</td>\n      <td>424880</td>\n      <td>rs16953156</td>\n      <td>G</td>\n      <td>A,T</td>\n      <td>NaN</td>\n      <td>.</td>\n      <td>NaN</td>\n      <td>NaN</td>\n      <td>SNV</td>\n      <td>...</td>\n      <td>False</td>\n      <td>False</td>\n      <td>False</td>\n      <td>False</td>\n      <td>False</td>\n      <td>False</td>\n      <td>True</td>\n      <td>False</td>\n      <td>1.0</td>\n      <td>2.0</td>\n    </tr>\n    <tr>\n      <th>83377</th>\n      <td>NC_000017.10</td>\n      <td>424934</td>\n      <td>rs59240016</td>\n      <td>G</td>\n      <td>C</td>\n      <td>NaN</td>\n      <td>.</td>\n      <td>NaN</td>\n      <td>NaN</td>\n      <td>SNV</td>\n      <td>...</td>\n      <td>False</td>\n      <td>False</td>\n      <td>False</td>\n      <td>False</td>\n      <td>False</td>\n      <td>False</td>\n      <td>True</td>\n      <td>False</td>\n      <td>1.0</td>\n      <td>2.0</td>\n    </tr>\n    <tr>\n      <th>85759</th>\n      <td>NC_000017.10</td>\n      <td>435896</td>\n      <td>rs11650424</td>\n      <td>C</td>\n      <td>T</td>\n      <td>NaN</td>\n      <td>.</td>\n      <td>NaN</td>\n      <td>NaN</td>\n      <td>SNV</td>\n      <td>...</td>\n      <td>False</td>\n      <td>True</td>\n      <td>False</td>\n      <td>False</td>\n      <td>False</td>\n      <td>True</td>\n      <td>True</td>\n      <td>False</td>\n      <td>1.0</td>\n      <td>2.0</td>\n    </tr>\n    <tr>\n      <th>85807</th>\n      <td>NC_000017.10</td>\n      <td>436083</td>\n      <td>rs587777465</td>\n      <td>T</td>\n      <td>C</td>\n      <td>NaN</td>\n      <td>.</td>\n      <td>NaN</td>\n      <td>NaN</td>\n      <td>SNV</td>\n      <td>...</td>\n      <td>False</td>\n      <td>False</td>\n      <td>False</td>\n      <td>False</td>\n      <td>False</td>\n      <td>False</td>\n      <td>False</td>\n      <td>False</td>\n      <td>1.0</td>\n      <td>5.0</td>\n    </tr>\n  </tbody>\n</table>\n<p>5 rows × 26 columns</p>\n</div>"
     },
     "metadata": {},
     "output_type": "display_data"
    },
    {
     "name": "stdout",
     "output_type": "stream",
     "text": [
      "7554\n"
     ]
    }
   ],
   "source": [
    "display(reduced_dbSNP.head())\n",
    "print(reduced_dbSNP['CLNSIG'].count())"
   ],
   "metadata": {
    "collapsed": false,
    "pycharm": {
     "name": "#%%\n"
    }
   }
  },
  {
   "cell_type": "code",
   "execution_count": 8,
   "outputs": [
    {
     "data": {
      "text/plain": "<AxesSubplot:>"
     },
     "execution_count": 8,
     "metadata": {},
     "output_type": "execute_result"
    },
    {
     "data": {
      "text/plain": "<Figure size 432x288 with 1 Axes>",
      "image/png": "[encoded data removed]"
     },
     "metadata": {
      "needs_background": "light"
     },
     "output_type": "display_data"
    }
   ],
   "source": [
    "df_clinvar['CLNSIG'].hist()"
   ],
   "metadata": {
    "collapsed": false,
    "pycharm": {
     "name": "#%%\n"
    }
   }
  },
  {
   "cell_type": "code",
   "execution_count": 9,
   "outputs": [
    {
     "name": "stdout",
     "output_type": "stream",
     "text": [
      "153803\n"
     ]
    }
   ],
   "source": [
    "df_clinvar_reduced = df_clinvar[df_clinvar['CLNSIG'].isin({'Pathogenic', 'Benign'})]\n",
    "print(df_clinvar_reduced['CLNSIG'].count())"
   ],
   "metadata": {
    "collapsed": false,
    "pycharm": {
     "name": "#%%\n"
    }
   }
  },
  {
   "cell_type": "markdown",
   "source": [
    "# Creating a dataframe from which the label can be retrieved via pos,ref,alt\n",
    "### Benign has label 0 and Pathogenic has label 1"
   ],
   "metadata": {
    "collapsed": false,
    "pycharm": {
     "name": "#%% md\n"
    }
   }
  },
  {
   "cell_type": "code",
   "execution_count": 10,
   "outputs": [],
   "source": [
    "merge_on_pos_ref_alt = df_clinvar_reduced[['pos', 'ref','alt', 'CLNSIG']].replace({'Pathogenic': 1, 'Benign':0}).merge(reduced_dbSNP[['pos', 'ref','alt', 'CLNSIG']].replace({'CLNSIG':{2:0,5:1}}), left_on=['pos','ref', 'alt'], right_on=['pos', 'ref','alt'], how='outer',suffixes=('_clinvar', '_dbSNP'))"
   ],
   "metadata": {
    "collapsed": false,
    "pycharm": {
     "name": "#%%\n"
    }
   }
  },
  {
   "cell_type": "markdown",
   "source": [
    "### The dbSNP does bring some additional information to the clinvar file"
   ],
   "metadata": {
    "collapsed": false,
    "pycharm": {
     "name": "#%% md\n"
    }
   }
  },
  {
   "cell_type": "code",
   "execution_count": 11,
   "outputs": [
    {
     "data": {
      "text/plain": "             pos ref  alt  CLNSIG_clinvar  CLNSIG_dbSNP\n153803    423051   T  A,C             NaN           0.0\n153804    424880   G  A,T             NaN           0.0\n153805    424934   G    C             NaN           0.0\n153806    435896   C    T             NaN           0.0\n153807    436121   G    A             NaN           0.0\n...          ...  ..  ...             ...           ...\n159097  80915258   A    G             NaN           0.0\n159098  81042874   G    A             NaN           0.0\n159099  81043068   A    G             NaN           0.0\n159100  81052029   C  A,T             NaN           0.0\n159101  81052130   A    G             NaN           0.0\n\n[5299 rows x 5 columns]",
      "text/html": "<div>\n<style scoped>\n    .dataframe tbody tr th:only-of-type {\n        vertical-align: middle;\n    }\n\n    .dataframe tbody tr th {\n        vertical-align: top;\n    }\n\n    .dataframe thead th {\n        text-align: right;\n    }\n</style>\n<table border=\"1\" class=\"dataframe\">\n  <thead>\n    <tr style=\"text-align: right;\">\n      <th></th>\n      <th>pos</th>\n      <th>ref</th>\n      <th>alt</th>\n      <th>CLNSIG_clinvar</th>\n      <th>CLNSIG_dbSNP</th>\n    </tr>\n  </thead>\n  <tbody>\n    <tr>\n      <th>153803</th>\n      <td>423051</td>\n      <td>T</td>\n      <td>A,C</td>\n      <td>NaN</td>\n      <td>0.0</td>\n    </tr>\n    <tr>\n      <th>153804</th>\n      <td>424880</td>\n      <td>G</td>\n      <td>A,T</td>\n      <td>NaN</td>\n      <td>0.0</td>\n    </tr>\n    <tr>\n      <th>153805</th>\n      <td>424934</td>\n      <td>G</td>\n      <td>C</td>\n      <td>NaN</td>\n      <td>0.0</td>\n    </tr>\n    <tr>\n      <th>153806</th>\n      <td>435896</td>\n      <td>C</td>\n      <td>T</td>\n      <td>NaN</td>\n      <td>0.0</td>\n    </tr>\n    <tr>\n      <th>153807</th>\n      <td>436121</td>\n      <td>G</td>\n      <td>A</td>\n      <td>NaN</td>\n      <td>0.0</td>\n    </tr>\n    <tr>\n      <th>...</th>\n      <td>...</td>\n      <td>...</td>\n      <td>...</td>\n      <td>...</td>\n      <td>...</td>\n    </tr>\n    <tr>\n      <th>159097</th>\n      <td>80915258</td>\n      <td>A</td>\n      <td>G</td>\n      <td>NaN</td>\n      <td>0.0</td>\n    </tr>\n    <tr>\n      <th>159098</th>\n      <td>81042874</td>\n      <td>G</td>\n      <td>A</td>\n      <td>NaN</td>\n      <td>0.0</td>\n    </tr>\n    <tr>\n      <th>159099</th>\n      <td>81043068</td>\n      <td>A</td>\n      <td>G</td>\n      <td>NaN</td>\n      <td>0.0</td>\n    </tr>\n    <tr>\n      <th>159100</th>\n      <td>81052029</td>\n      <td>C</td>\n      <td>A,T</td>\n      <td>NaN</td>\n      <td>0.0</td>\n    </tr>\n    <tr>\n      <th>159101</th>\n      <td>81052130</td>\n      <td>A</td>\n      <td>G</td>\n      <td>NaN</td>\n      <td>0.0</td>\n    </tr>\n  </tbody>\n</table>\n<p>5299 rows × 5 columns</p>\n</div>"
     },
     "execution_count": 11,
     "metadata": {},
     "output_type": "execute_result"
    }
   ],
   "source": [
    "merge_on_pos_ref_alt.loc[merge_on_pos_ref_alt['CLNSIG_clinvar'].isna()]"
   ],
   "metadata": {
    "collapsed": false,
    "pycharm": {
     "name": "#%%\n"
    }
   }
  },
  {
   "cell_type": "code",
   "execution_count": 12,
   "outputs": [
    {
     "data": {
      "text/plain": "      pos ref alt  CLNSIG_clinvar  CLNSIG_dbSNP\n0  949422   G   A             0.0           NaN\n1  949422   G   A             0.0           NaN\n2  949438   A   G             0.0           NaN\n3  949438   A   G             0.0           NaN\n4  949523   C   T             1.0           NaN",
      "text/html": "<div>\n<style scoped>\n    .dataframe tbody tr th:only-of-type {\n        vertical-align: middle;\n    }\n\n    .dataframe tbody tr th {\n        vertical-align: top;\n    }\n\n    .dataframe thead th {\n        text-align: right;\n    }\n</style>\n<table border=\"1\" class=\"dataframe\">\n  <thead>\n    <tr style=\"text-align: right;\">\n      <th></th>\n      <th>pos</th>\n      <th>ref</th>\n      <th>alt</th>\n      <th>CLNSIG_clinvar</th>\n      <th>CLNSIG_dbSNP</th>\n    </tr>\n  </thead>\n  <tbody>\n    <tr>\n      <th>0</th>\n      <td>949422</td>\n      <td>G</td>\n      <td>A</td>\n      <td>0.0</td>\n      <td>NaN</td>\n    </tr>\n    <tr>\n      <th>1</th>\n      <td>949422</td>\n      <td>G</td>\n      <td>A</td>\n      <td>0.0</td>\n      <td>NaN</td>\n    </tr>\n    <tr>\n      <th>2</th>\n      <td>949438</td>\n      <td>A</td>\n      <td>G</td>\n      <td>0.0</td>\n      <td>NaN</td>\n    </tr>\n    <tr>\n      <th>3</th>\n      <td>949438</td>\n      <td>A</td>\n      <td>G</td>\n      <td>0.0</td>\n      <td>NaN</td>\n    </tr>\n    <tr>\n      <th>4</th>\n      <td>949523</td>\n      <td>C</td>\n      <td>T</td>\n      <td>1.0</td>\n      <td>NaN</td>\n    </tr>\n  </tbody>\n</table>\n</div>"
     },
     "execution_count": 12,
     "metadata": {},
     "output_type": "execute_result"
    }
   ],
   "source": [
    "merge_on_pos_ref_alt.head()"
   ],
   "metadata": {
    "collapsed": false,
    "pycharm": {
     "name": "#%%\n"
    }
   }
  },
  {
   "cell_type": "markdown",
   "source": [
    "# Creating label df"
   ],
   "metadata": {
    "collapsed": false,
    "pycharm": {
     "name": "#%% md\n",
     "is_executing": true
    }
   }
  },
  {
   "cell_type": "code",
   "execution_count": 5,
   "outputs": [],
   "source": [
    "from idiva.db import db\n",
    "\n",
    "db_PosRefAlt = db.get_db_label_df()"
   ],
   "metadata": {
    "collapsed": false,
    "pycharm": {
     "name": "#%%\n"
    }
   }
  },
  {
   "cell_type": "code",
   "execution_count": null,
   "outputs": [],
   "source": [
    "print(db_PosRefAlt['pos'].max())\n",
    "print(db_PosRefAlt['pos'].min())"
   ],
   "metadata": {
    "collapsed": false,
    "pycharm": {
     "name": "#%%\n"
    }
   }
  },
  {
   "cell_type": "code",
   "execution_count": null,
   "outputs": [],
   "source": [
    "# Merging on pos, ref, alt"
   ],
   "metadata": {
    "collapsed": false,
    "pycharm": {
     "name": "#%%\n"
    }
   }
  },
  {
   "cell_type": "code",
   "execution_count": 8,
   "outputs": [],
   "source": [
    "from idiva.clf.df import v0_df, join, c5_df\n",
    "from idiva.download import download\n",
    "from idiva.io.gz import open_maybe_gz\n",
    "from idiva.io.vcf import ReadVCF\n",
    "from idiva.io import cache_df\n",
    "\n",
    "URLS = {\n",
    "    'ctrl': \"https://public.bmi.inf.ethz.ch/eth_intern/teaching/cbm_2020/cbm_2020_project2/control_v2.vcf.gz\",\n",
    "    'case': \"https://public.bmi.inf.ethz.ch/eth_intern/teaching/cbm_2020/cbm_2020_project2/case_processed_v2.vcf.gz\",\n",
    "}\n",
    "\n",
    "def case_control_maker():\n",
    "    dfs = {}\n",
    "    for group, value in URLS.items():\n",
    "        with download(value).now.open(mode='rb') as fd:\n",
    "            with open_maybe_gz(fd, mode='r') as fd:\n",
    "                dfs[group] = c5_df(ReadVCF(fd))\n",
    "\n",
    "    return join(case=dfs['case'], ctrl=dfs['ctrl'], on=['CHROM', 'POS', 'REF', 'ALT', 'ID'])\n",
    "case_control = cache_df(name=(\"case_control\"), key='c5_df', df_maker=case_control_maker)\n"
   ],
   "metadata": {
    "collapsed": false,
    "pycharm": {
     "name": "#%%\n"
    }
   }
  },
  {
   "cell_type": "code",
   "execution_count": 9,
   "outputs": [
    {
     "data": {
      "text/plain": "            CHROM  POS           ID REF ALT\nUnnamed: 0                                 \n0              17   52  rs556541063   C   A\n1              17   56  rs145615430   C   T\n2              17   78  rs148170422   G   C\n3              17   80  rs183779916   G   A\n4              17   92  rs562410061   G   T",
      "text/html": "<div>\n<style scoped>\n    .dataframe tbody tr th:only-of-type {\n        vertical-align: middle;\n    }\n\n    .dataframe tbody tr th {\n        vertical-align: top;\n    }\n\n    .dataframe thead th {\n        text-align: right;\n    }\n</style>\n<table border=\"1\" class=\"dataframe\">\n  <thead>\n    <tr style=\"text-align: right;\">\n      <th></th>\n      <th>CHROM</th>\n      <th>POS</th>\n      <th>ID</th>\n      <th>REF</th>\n      <th>ALT</th>\n    </tr>\n    <tr>\n      <th>Unnamed: 0</th>\n      <th></th>\n      <th></th>\n      <th></th>\n      <th></th>\n      <th></th>\n    </tr>\n  </thead>\n  <tbody>\n    <tr>\n      <th>0</th>\n      <td>17</td>\n      <td>52</td>\n      <td>rs556541063</td>\n      <td>C</td>\n      <td>A</td>\n    </tr>\n    <tr>\n      <th>1</th>\n      <td>17</td>\n      <td>56</td>\n      <td>rs145615430</td>\n      <td>C</td>\n      <td>T</td>\n    </tr>\n    <tr>\n      <th>2</th>\n      <td>17</td>\n      <td>78</td>\n      <td>rs148170422</td>\n      <td>G</td>\n      <td>C</td>\n    </tr>\n    <tr>\n      <th>3</th>\n      <td>17</td>\n      <td>80</td>\n      <td>rs183779916</td>\n      <td>G</td>\n      <td>A</td>\n    </tr>\n    <tr>\n      <th>4</th>\n      <td>17</td>\n      <td>92</td>\n      <td>rs562410061</td>\n      <td>G</td>\n      <td>T</td>\n    </tr>\n  </tbody>\n</table>\n</div>"
     },
     "execution_count": 9,
     "metadata": {},
     "output_type": "execute_result"
    }
   ],
   "source": [
    "case_control.head()"
   ],
   "metadata": {
    "collapsed": false,
    "pycharm": {
     "name": "#%%\n"
    }
   }
  },
  {
   "cell_type": "code",
   "execution_count": 21,
   "outputs": [],
   "source": [
    "dfs = {}\n",
    "for group, value in URLS.items():\n",
    "    with download(value).now.open(mode='rb') as fd:\n",
    "        with open_maybe_gz(fd, mode='r') as fd:\n",
    "            dfs[group] = c5_df(ReadVCF(fd))"
   ],
   "metadata": {
    "collapsed": false,
    "pycharm": {
     "name": "#%%\n"
    }
   }
  },
  {
   "cell_type": "code",
   "execution_count": 19,
   "outputs": [
    {
     "name": "stdout",
     "output_type": "stream",
     "text": [
      "81194398\n",
      "52\n"
     ]
    }
   ],
   "source": [
    "print(case_control['POS'].max())\n",
    "print(case_control['POS'].min())"
   ],
   "metadata": {
    "collapsed": false,
    "pycharm": {
     "name": "#%%\n"
    }
   }
  },
  {
   "cell_type": "code",
   "execution_count": 22,
   "outputs": [],
   "source": [
    "merge_on_PosRefAlt = dfs['ctrl'].merge(db_PosRefAlt, left_on=['POS', 'REF', 'ALT'], right_on=['pos', 'ref', 'alt'], how='left')"
   ],
   "metadata": {
    "collapsed": false,
    "pycharm": {
     "name": "#%%\n"
    }
   }
  },
  {
   "cell_type": "code",
   "execution_count": 23,
   "outputs": [
    {
     "data": {
      "text/plain": "159102"
     },
     "execution_count": 23,
     "metadata": {},
     "output_type": "execute_result"
    }
   ],
   "source": [
    "len(merge_on_pos_ref_alt)"
   ],
   "metadata": {
    "collapsed": false,
    "pycharm": {
     "name": "#%%\n"
    }
   }
  },
  {
   "cell_type": "code",
   "execution_count": 12,
   "outputs": [],
   "source": [
    "merge_on_PosRefAlt = case_control.merge(db_PosRefAlt, left_on=['POS', 'REF', 'ALT'], right_on=['pos', 'ref', 'alt'], how='left')"
   ],
   "metadata": {
    "collapsed": false,
    "pycharm": {
     "name": "#%%\n"
    }
   }
  },
  {
   "cell_type": "code",
   "execution_count": 11,
   "outputs": [
    {
     "name": "stdout",
     "output_type": "stream",
     "text": [
      "2262261\n"
     ]
    }
   ],
   "source": [
    "print(len(merge_on_PosRefAlt))"
   ],
   "metadata": {
    "collapsed": false,
    "pycharm": {
     "name": "#%%\n"
    }
   }
  }
 ],
 "metadata": {
  "kernelspec": {
   "display_name": "Python 3",
   "language": "python",
   "name": "python3"
  },
  "language_info": {
   "codemirror_mode": {
    "name": "ipython",
    "version": 2
   },
   "file_extension": ".py",
   "mimetype": "text/x-python",
   "name": "python",
   "nbconvert_exporter": "python",
   "pygments_lexer": "ipython2",
   "version": "2.7.6"
  }
 },
 "nbformat": 4,
 "nbformat_minor": 0
}